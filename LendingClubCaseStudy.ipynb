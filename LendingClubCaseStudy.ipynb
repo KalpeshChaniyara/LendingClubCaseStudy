{
 "cells": [
  {
   "cell_type": "markdown",
   "id": "74a9b5d6",
   "metadata": {},
   "source": [
    "# Shree Ganeshay Namah\n",
    "\n"
   ]
  },
  {
   "cell_type": "markdown",
   "id": "c3b990e0",
   "metadata": {},
   "source": [
    "## Lending Club Case Study"
   ]
  },
  {
   "cell_type": "code",
   "execution_count": 824,
   "id": "a22cbb34",
   "metadata": {},
   "outputs": [],
   "source": [
    "import numpy as np\n",
    "import pandas as pd\n",
    "import matplotlib.pyplot as plt\n",
    "import seaborn as sns\n"
   ]
  },
  {
   "cell_type": "markdown",
   "id": "f198c3a2",
   "metadata": {},
   "source": [
    "## Data Understanding & Cleansing Phase"
   ]
  },
  {
   "cell_type": "markdown",
   "id": "0bc81ec3",
   "metadata": {},
   "source": [
    "* Objectivs\n",
    "    * Removing columns having all null values\n",
    "    * Removing columns having significant null values\n",
    "    * Removing rows where important columns have null values"
   ]
  },
  {
   "cell_type": "code",
   "execution_count": 825,
   "id": "71e3106b",
   "metadata": {
    "scrolled": true
   },
   "outputs": [
    {
     "name": "stderr",
     "output_type": "stream",
     "text": [
      "C:\\Users\\kchaniyara\\AppData\\Local\\Temp\\ipykernel_24540\\3827572616.py:1: DtypeWarning: Columns (47) have mixed types. Specify dtype option on import or set low_memory=False.\n",
      "  loan_raw = pd.read_csv(\"C:/Users/kchaniyara/JupyterNoteBooks/LendingClubCaseStudy/LendingClubCaseStudy/loan.csv\")\n"
     ]
    }
   ],
   "source": [
    "loan_raw = pd.read_csv(\"C:/Users/kchaniyara/JupyterNoteBooks/LendingClubCaseStudy/LendingClubCaseStudy/loan.csv\")"
   ]
  },
  {
   "cell_type": "code",
   "execution_count": 826,
   "id": "3c70838d",
   "metadata": {},
   "outputs": [
    {
     "data": {
      "text/plain": [
       "(39717, 111)"
      ]
     },
     "execution_count": 826,
     "metadata": {},
     "output_type": "execute_result"
    }
   ],
   "source": [
    "loan_raw.shape"
   ]
  },
  {
   "cell_type": "markdown",
   "id": "d509cf33",
   "metadata": {},
   "source": [
    "removing columns having all null values"
   ]
  },
  {
   "cell_type": "code",
   "execution_count": 827,
   "id": "6f2b60a2",
   "metadata": {},
   "outputs": [],
   "source": [
    "loan_raw_filtered = loan_raw.filter( items=(loan_raw.isnull().sum() < 39717).loc[lambda x:x == True].index.tolist())"
   ]
  },
  {
   "cell_type": "code",
   "execution_count": 828,
   "id": "09520557",
   "metadata": {},
   "outputs": [
    {
     "data": {
      "text/plain": [
       "(39717, 57)"
      ]
     },
     "execution_count": 828,
     "metadata": {},
     "output_type": "execute_result"
    }
   ],
   "source": [
    "loan_raw_filtered.shape"
   ]
  },
  {
   "cell_type": "code",
   "execution_count": 829,
   "id": "f445d9a2",
   "metadata": {
    "scrolled": true
   },
   "outputs": [
    {
     "data": {
      "text/plain": [
       "next_pymnt_d                  38577\n",
       "mths_since_last_record        36931\n",
       "mths_since_last_delinq        25682\n",
       "desc                          12942\n",
       "emp_title                      2459\n",
       "emp_length                     1075\n",
       "pub_rec_bankruptcies            697\n",
       "last_pymnt_d                     71\n",
       "chargeoff_within_12_mths         56\n",
       "collections_12_mths_ex_med       56\n",
       "revol_util                       50\n",
       "tax_liens                        39\n",
       "title                            11\n",
       "last_credit_pull_d                2\n",
       "home_ownership                    0\n",
       "int_rate                          0\n",
       "out_prncp_inv                     0\n",
       "total_pymnt                       0\n",
       "total_pymnt_inv                   0\n",
       "total_rec_prncp                   0\n",
       "total_rec_int                     0\n",
       "total_rec_late_fee                0\n",
       "recoveries                        0\n",
       "collection_recovery_fee           0\n",
       "term                              0\n",
       "last_pymnt_amnt                   0\n",
       "initial_list_status               0\n",
       "funded_amnt_inv                   0\n",
       "policy_code                       0\n",
       "application_type                  0\n",
       "acc_now_delinq                    0\n",
       "funded_amnt                       0\n",
       "delinq_amnt                       0\n",
       "loan_amnt                         0\n",
       "out_prncp                         0\n",
       "total_acc                         0\n",
       "annual_inc                        0\n",
       "addr_state                        0\n",
       "verification_status               0\n",
       "issue_d                           0\n",
       "loan_status                       0\n",
       "pymnt_plan                        0\n",
       "url                               0\n",
       "sub_grade                         0\n",
       "purpose                           0\n",
       "zip_code                          0\n",
       "dti                               0\n",
       "installment                       0\n",
       "delinq_2yrs                       0\n",
       "earliest_cr_line                  0\n",
       "inq_last_6mths                    0\n",
       "member_id                         0\n",
       "grade                             0\n",
       "open_acc                          0\n",
       "pub_rec                           0\n",
       "revol_bal                         0\n",
       "id                                0\n",
       "dtype: int64"
      ]
     },
     "execution_count": 829,
     "metadata": {},
     "output_type": "execute_result"
    }
   ],
   "source": [
    "loan_raw_filtered.isnull().sum().sort_values(ascending=False)"
   ]
  },
  {
   "cell_type": "markdown",
   "id": "3e7f4263",
   "metadata": {},
   "source": [
    "Columns \"mths_since_last_delinq\", \"mths_since_last_record\",\"next_pymnt_d\" and \"desc\" are having significant number of null values, so excluding them from analysis "
   ]
  },
  {
   "cell_type": "code",
   "execution_count": 830,
   "id": "dc3a2b98",
   "metadata": {},
   "outputs": [],
   "source": [
    "loan_raw_filtered = loan_raw_filtered.drop([\"mths_since_last_delinq\", \"mths_since_last_record\",\"next_pymnt_d\",\"desc\"], axis=1)"
   ]
  },
  {
   "cell_type": "code",
   "execution_count": 831,
   "id": "32d64441",
   "metadata": {},
   "outputs": [
    {
     "data": {
      "text/plain": [
       "emp_title                     2459\n",
       "emp_length                    1075\n",
       "pub_rec_bankruptcies           697\n",
       "last_pymnt_d                    71\n",
       "collections_12_mths_ex_med      56\n",
       "chargeoff_within_12_mths        56\n",
       "revol_util                      50\n",
       "tax_liens                       39\n",
       "title                           11\n",
       "last_credit_pull_d               2\n",
       "total_rec_prncp                  0\n",
       "out_prncp                        0\n",
       "initial_list_status              0\n",
       "out_prncp_inv                    0\n",
       "total_acc                        0\n",
       "total_pymnt                      0\n",
       "total_pymnt_inv                  0\n",
       "collection_recovery_fee          0\n",
       "total_rec_int                    0\n",
       "total_rec_late_fee               0\n",
       "recoveries                       0\n",
       "pub_rec                          0\n",
       "last_pymnt_amnt                  0\n",
       "policy_code                      0\n",
       "application_type                 0\n",
       "acc_now_delinq                   0\n",
       "delinq_amnt                      0\n",
       "revol_bal                        0\n",
       "id                               0\n",
       "open_acc                         0\n",
       "member_id                        0\n",
       "loan_amnt                        0\n",
       "funded_amnt                      0\n",
       "funded_amnt_inv                  0\n",
       "term                             0\n",
       "int_rate                         0\n",
       "installment                      0\n",
       "grade                            0\n",
       "sub_grade                        0\n",
       "home_ownership                   0\n",
       "annual_inc                       0\n",
       "verification_status              0\n",
       "issue_d                          0\n",
       "loan_status                      0\n",
       "pymnt_plan                       0\n",
       "url                              0\n",
       "purpose                          0\n",
       "zip_code                         0\n",
       "addr_state                       0\n",
       "dti                              0\n",
       "delinq_2yrs                      0\n",
       "earliest_cr_line                 0\n",
       "inq_last_6mths                   0\n",
       "dtype: int64"
      ]
     },
     "execution_count": 831,
     "metadata": {},
     "output_type": "execute_result"
    }
   ],
   "source": [
    "loan_raw_filtered.isnull().sum().sort_values(ascending=False)"
   ]
  },
  {
   "cell_type": "markdown",
   "id": "fd2fa4df",
   "metadata": {},
   "source": [
    "emp_length might be related to person getting default on loan, so removing rows where emp_length is having null values (1075 records out of 39717)"
   ]
  },
  {
   "cell_type": "code",
   "execution_count": 832,
   "id": "04613f46",
   "metadata": {},
   "outputs": [],
   "source": [
    "loan_raw_filtered = loan_raw_filtered[loan_raw_filtered[\"emp_length\"].isnull() == False]"
   ]
  },
  {
   "cell_type": "code",
   "execution_count": 833,
   "id": "b5db4842",
   "metadata": {},
   "outputs": [
    {
     "data": {
      "text/plain": [
       "emp_title                     1440\n",
       "pub_rec_bankruptcies           697\n",
       "last_pymnt_d                    66\n",
       "chargeoff_within_12_mths        56\n",
       "collections_12_mths_ex_med      56\n",
       "revol_util                      47\n",
       "tax_liens                       39\n",
       "title                           10\n",
       "last_credit_pull_d               2\n",
       "total_rec_prncp                  0\n",
       "total_acc                        0\n",
       "initial_list_status              0\n",
       "out_prncp                        0\n",
       "out_prncp_inv                    0\n",
       "total_pymnt                      0\n",
       "total_pymnt_inv                  0\n",
       "collection_recovery_fee          0\n",
       "total_rec_int                    0\n",
       "total_rec_late_fee               0\n",
       "recoveries                       0\n",
       "pub_rec                          0\n",
       "last_pymnt_amnt                  0\n",
       "policy_code                      0\n",
       "application_type                 0\n",
       "acc_now_delinq                   0\n",
       "delinq_amnt                      0\n",
       "revol_bal                        0\n",
       "id                               0\n",
       "open_acc                         0\n",
       "annual_inc                       0\n",
       "loan_amnt                        0\n",
       "funded_amnt                      0\n",
       "funded_amnt_inv                  0\n",
       "term                             0\n",
       "int_rate                         0\n",
       "installment                      0\n",
       "grade                            0\n",
       "sub_grade                        0\n",
       "emp_length                       0\n",
       "home_ownership                   0\n",
       "verification_status              0\n",
       "member_id                        0\n",
       "issue_d                          0\n",
       "loan_status                      0\n",
       "pymnt_plan                       0\n",
       "url                              0\n",
       "purpose                          0\n",
       "zip_code                         0\n",
       "addr_state                       0\n",
       "dti                              0\n",
       "delinq_2yrs                      0\n",
       "earliest_cr_line                 0\n",
       "inq_last_6mths                   0\n",
       "dtype: int64"
      ]
     },
     "execution_count": 833,
     "metadata": {},
     "output_type": "execute_result"
    }
   ],
   "source": [
    "loan_raw_filtered.isnull().sum().sort_values(ascending=False)"
   ]
  },
  {
   "cell_type": "code",
   "execution_count": 834,
   "id": "824b6484",
   "metadata": {},
   "outputs": [
    {
     "data": {
      "text/plain": [
       "emp_title\n",
       "US Army                              134\n",
       "Bank of America                      109\n",
       "IBM                                   66\n",
       "AT&T                                  59\n",
       "Kaiser Permanente                     56\n",
       "                                    ... \n",
       "Five County Assoc of Governments       1\n",
       "Far Niente Winery Inc                  1\n",
       "Tobyhanna Army Depot                   1\n",
       "Community College of Philadelphia      1\n",
       "Evergreen Center                       1\n",
       "Name: count, Length: 28775, dtype: int64"
      ]
     },
     "execution_count": 834,
     "metadata": {},
     "output_type": "execute_result"
    }
   ],
   "source": [
    "loan_raw_filtered[\"emp_title\"].value_counts()"
   ]
  },
  {
   "cell_type": "code",
   "execution_count": 835,
   "id": "d9131a0e",
   "metadata": {},
   "outputs": [
    {
     "data": {
      "text/plain": [
       "count       37202\n",
       "unique      28775\n",
       "top       US Army\n",
       "freq          134\n",
       "Name: emp_title, dtype: object"
      ]
     },
     "execution_count": 835,
     "metadata": {},
     "output_type": "execute_result"
    }
   ],
   "source": [
    "loan_raw_filtered[\"emp_title\"].describe()"
   ]
  },
  {
   "cell_type": "markdown",
   "id": "6427e79d",
   "metadata": {},
   "source": [
    "Since emp_title is not numeric value and is having large number of unique values (28775 out of 37202), it is not going to add more insights on person getting default, so excluding this column from analysis"
   ]
  },
  {
   "cell_type": "code",
   "execution_count": 836,
   "id": "3ce4d17b",
   "metadata": {},
   "outputs": [],
   "source": [
    "loan_raw_filtered = loan_raw_filtered.drop([\"emp_title\"], axis=1)"
   ]
  },
  {
   "cell_type": "markdown",
   "id": "15108951",
   "metadata": {},
   "source": [
    "pub_rec_bankruptcies can very well influence person's repeating defaulting behavior so let's remove the null values rows for it"
   ]
  },
  {
   "cell_type": "code",
   "execution_count": 837,
   "id": "05b39576",
   "metadata": {},
   "outputs": [],
   "source": [
    "loan_raw_filtered = loan_raw_filtered[loan_raw_filtered[\"pub_rec_bankruptcies\"].isnull() == False]"
   ]
  },
  {
   "cell_type": "code",
   "execution_count": 838,
   "id": "1e0330cb",
   "metadata": {},
   "outputs": [
    {
     "data": {
      "text/plain": [
       "last_pymnt_d                  66\n",
       "revol_util                    47\n",
       "title                         10\n",
       "chargeoff_within_12_mths       2\n",
       "collections_12_mths_ex_med     2\n",
       "last_credit_pull_d             1\n",
       "id                             0\n",
       "total_rec_int                  0\n",
       "total_acc                      0\n",
       "initial_list_status            0\n",
       "out_prncp                      0\n",
       "out_prncp_inv                  0\n",
       "total_pymnt                    0\n",
       "total_pymnt_inv                0\n",
       "total_rec_prncp                0\n",
       "recoveries                     0\n",
       "total_rec_late_fee             0\n",
       "pub_rec                        0\n",
       "collection_recovery_fee        0\n",
       "last_pymnt_amnt                0\n",
       "policy_code                    0\n",
       "application_type               0\n",
       "acc_now_delinq                 0\n",
       "delinq_amnt                    0\n",
       "pub_rec_bankruptcies           0\n",
       "revol_bal                      0\n",
       "open_acc                       0\n",
       "member_id                      0\n",
       "annual_inc                     0\n",
       "loan_amnt                      0\n",
       "funded_amnt                    0\n",
       "funded_amnt_inv                0\n",
       "term                           0\n",
       "int_rate                       0\n",
       "installment                    0\n",
       "grade                          0\n",
       "sub_grade                      0\n",
       "emp_length                     0\n",
       "home_ownership                 0\n",
       "verification_status            0\n",
       "inq_last_6mths                 0\n",
       "issue_d                        0\n",
       "loan_status                    0\n",
       "pymnt_plan                     0\n",
       "url                            0\n",
       "purpose                        0\n",
       "zip_code                       0\n",
       "addr_state                     0\n",
       "dti                            0\n",
       "delinq_2yrs                    0\n",
       "earliest_cr_line               0\n",
       "tax_liens                      0\n",
       "dtype: int64"
      ]
     },
     "execution_count": 838,
     "metadata": {},
     "output_type": "execute_result"
    }
   ],
   "source": [
    "loan_raw_filtered.isnull().sum().sort_values(ascending=False)"
   ]
  },
  {
   "cell_type": "code",
   "execution_count": 839,
   "id": "0809d0b4",
   "metadata": {},
   "outputs": [
    {
     "data": {
      "text/plain": [
       "count     37898\n",
       "unique     1087\n",
       "top          0%\n",
       "freq        906\n",
       "Name: revol_util, dtype: object"
      ]
     },
     "execution_count": 839,
     "metadata": {},
     "output_type": "execute_result"
    }
   ],
   "source": [
    "loan_raw_filtered[\"revol_util\"].describe()"
   ]
  },
  {
   "cell_type": "markdown",
   "id": "d3e9a897",
   "metadata": {},
   "source": [
    "Since \"last_pymnt_d\" and \"rvevol_util\" might be related to person getting default on loan, let's remove null value rows "
   ]
  },
  {
   "cell_type": "code",
   "execution_count": 840,
   "id": "f694a440",
   "metadata": {},
   "outputs": [],
   "source": [
    "loan_raw_filtered = loan_raw_filtered[loan_raw_filtered[\"last_pymnt_d\"].isnull() == False]\n",
    "loan_raw_filtered = loan_raw_filtered[loan_raw_filtered[\"revol_util\"].isnull() == False]"
   ]
  },
  {
   "cell_type": "code",
   "execution_count": 841,
   "id": "a104402f",
   "metadata": {},
   "outputs": [
    {
     "data": {
      "text/plain": [
       "title                         10\n",
       "chargeoff_within_12_mths       2\n",
       "collections_12_mths_ex_med     2\n",
       "last_credit_pull_d             1\n",
       "id                             0\n",
       "total_rec_int                  0\n",
       "revol_util                     0\n",
       "total_acc                      0\n",
       "initial_list_status            0\n",
       "out_prncp                      0\n",
       "out_prncp_inv                  0\n",
       "total_pymnt                    0\n",
       "total_pymnt_inv                0\n",
       "total_rec_prncp                0\n",
       "recoveries                     0\n",
       "total_rec_late_fee             0\n",
       "pub_rec                        0\n",
       "collection_recovery_fee        0\n",
       "last_pymnt_d                   0\n",
       "last_pymnt_amnt                0\n",
       "policy_code                    0\n",
       "application_type               0\n",
       "acc_now_delinq                 0\n",
       "delinq_amnt                    0\n",
       "pub_rec_bankruptcies           0\n",
       "revol_bal                      0\n",
       "open_acc                       0\n",
       "member_id                      0\n",
       "annual_inc                     0\n",
       "loan_amnt                      0\n",
       "funded_amnt                    0\n",
       "funded_amnt_inv                0\n",
       "term                           0\n",
       "int_rate                       0\n",
       "installment                    0\n",
       "grade                          0\n",
       "sub_grade                      0\n",
       "emp_length                     0\n",
       "home_ownership                 0\n",
       "verification_status            0\n",
       "inq_last_6mths                 0\n",
       "issue_d                        0\n",
       "loan_status                    0\n",
       "pymnt_plan                     0\n",
       "url                            0\n",
       "purpose                        0\n",
       "zip_code                       0\n",
       "addr_state                     0\n",
       "dti                            0\n",
       "delinq_2yrs                    0\n",
       "earliest_cr_line               0\n",
       "tax_liens                      0\n",
       "dtype: int64"
      ]
     },
     "execution_count": 841,
     "metadata": {},
     "output_type": "execute_result"
    }
   ],
   "source": [
    "loan_raw_filtered.isnull().sum().sort_values(ascending=False)\n"
   ]
  },
  {
   "cell_type": "code",
   "execution_count": 842,
   "id": "eeba2c27",
   "metadata": {},
   "outputs": [
    {
     "data": {
      "text/plain": [
       "title\n",
       "Debt Consolidation                        2118\n",
       "Debt Consolidation Loan                   1683\n",
       "Personal Loan                              616\n",
       "Consolidation                              498\n",
       "debt consolidation                         480\n",
       "                                          ... \n",
       "Pay it Down                                  1\n",
       "Debt Free Goal                               1\n",
       "Fix it up                                    1\n",
       "don't sell the Cadillac.                     1\n",
       "Merging 2 Accounts into one to save $$       1\n",
       "Name: count, Length: 18678, dtype: int64"
      ]
     },
     "execution_count": 842,
     "metadata": {},
     "output_type": "execute_result"
    }
   ],
   "source": [
    "loan_raw_filtered[\"title\"].value_counts()"
   ]
  },
  {
   "cell_type": "code",
   "execution_count": 843,
   "id": "17e5b2d4",
   "metadata": {},
   "outputs": [
    {
     "data": {
      "text/plain": [
       "count                  37826\n",
       "unique                 18678\n",
       "top       Debt Consolidation\n",
       "freq                    2118\n",
       "Name: title, dtype: object"
      ]
     },
     "execution_count": 843,
     "metadata": {},
     "output_type": "execute_result"
    }
   ],
   "source": [
    "loan_raw_filtered[\"title\"].describe()"
   ]
  },
  {
   "cell_type": "markdown",
   "id": "6ed1447b",
   "metadata": {},
   "source": [
    "as title is having large number of uniqe values and it is not a numeric value, let's remove it from analysis"
   ]
  },
  {
   "cell_type": "code",
   "execution_count": 844,
   "id": "2b17ec18",
   "metadata": {},
   "outputs": [],
   "source": [
    "loan_raw_filtered = loan_raw_filtered.drop([\"title\"], axis=1)"
   ]
  },
  {
   "cell_type": "code",
   "execution_count": 845,
   "id": "85189960",
   "metadata": {},
   "outputs": [
    {
     "data": {
      "text/plain": [
       "chargeoff_within_12_mths      2\n",
       "collections_12_mths_ex_med    2\n",
       "last_credit_pull_d            1\n",
       "id                            0\n",
       "total_rec_late_fee            0\n",
       "revol_util                    0\n",
       "total_acc                     0\n",
       "initial_list_status           0\n",
       "out_prncp                     0\n",
       "out_prncp_inv                 0\n",
       "total_pymnt                   0\n",
       "total_pymnt_inv               0\n",
       "total_rec_prncp               0\n",
       "total_rec_int                 0\n",
       "collection_recovery_fee       0\n",
       "recoveries                    0\n",
       "pub_rec                       0\n",
       "last_pymnt_d                  0\n",
       "last_pymnt_amnt               0\n",
       "policy_code                   0\n",
       "application_type              0\n",
       "acc_now_delinq                0\n",
       "delinq_amnt                   0\n",
       "pub_rec_bankruptcies          0\n",
       "revol_bal                     0\n",
       "open_acc                      0\n",
       "member_id                     0\n",
       "annual_inc                    0\n",
       "loan_amnt                     0\n",
       "funded_amnt                   0\n",
       "funded_amnt_inv               0\n",
       "term                          0\n",
       "int_rate                      0\n",
       "installment                   0\n",
       "grade                         0\n",
       "sub_grade                     0\n",
       "emp_length                    0\n",
       "home_ownership                0\n",
       "verification_status           0\n",
       "inq_last_6mths                0\n",
       "issue_d                       0\n",
       "loan_status                   0\n",
       "pymnt_plan                    0\n",
       "url                           0\n",
       "purpose                       0\n",
       "zip_code                      0\n",
       "addr_state                    0\n",
       "dti                           0\n",
       "delinq_2yrs                   0\n",
       "earliest_cr_line              0\n",
       "tax_liens                     0\n",
       "dtype: int64"
      ]
     },
     "execution_count": 845,
     "metadata": {},
     "output_type": "execute_result"
    }
   ],
   "source": [
    "loan_raw_filtered.isnull().sum().sort_values(ascending=False)"
   ]
  },
  {
   "cell_type": "code",
   "execution_count": 846,
   "id": "307d5adf",
   "metadata": {},
   "outputs": [
    {
     "data": {
      "text/plain": [
       "(37836, 51)"
      ]
     },
     "execution_count": 846,
     "metadata": {},
     "output_type": "execute_result"
    }
   ],
   "source": [
    "loan_raw_filtered.shape"
   ]
  },
  {
   "cell_type": "markdown",
   "id": "d615e86a",
   "metadata": {},
   "source": [
    "excluding null value rows for \"chargeoff_within_12_mths\", \"collections_12_mths_ex_med\" and \"last_credit_pull_d\" as there are very few such rows"
   ]
  },
  {
   "cell_type": "code",
   "execution_count": 847,
   "id": "a5f08090",
   "metadata": {},
   "outputs": [],
   "source": [
    "loan_raw_filtered = loan_raw_filtered[loan_raw_filtered[\"chargeoff_within_12_mths\"].isnull() == False]\n",
    "loan_raw_filtered = loan_raw_filtered[loan_raw_filtered[\"collections_12_mths_ex_med\"].isnull() == False]\n",
    "loan_raw_filtered = loan_raw_filtered[loan_raw_filtered[\"last_credit_pull_d\"].isnull() == False]"
   ]
  },
  {
   "cell_type": "code",
   "execution_count": 848,
   "id": "5f2604bd",
   "metadata": {},
   "outputs": [
    {
     "data": {
      "text/plain": [
       "Index(['acc_now_delinq', 'addr_state', 'annual_inc', 'application_type',\n",
       "       'chargeoff_within_12_mths', 'collection_recovery_fee',\n",
       "       'collections_12_mths_ex_med', 'delinq_2yrs', 'delinq_amnt', 'dti',\n",
       "       'earliest_cr_line', 'emp_length', 'funded_amnt', 'funded_amnt_inv',\n",
       "       'grade', 'home_ownership', 'id', 'initial_list_status',\n",
       "       'inq_last_6mths', 'installment', 'int_rate', 'issue_d',\n",
       "       'last_credit_pull_d', 'last_pymnt_amnt', 'last_pymnt_d', 'loan_amnt',\n",
       "       'loan_status', 'member_id', 'open_acc', 'out_prncp', 'out_prncp_inv',\n",
       "       'policy_code', 'pub_rec', 'pub_rec_bankruptcies', 'purpose',\n",
       "       'pymnt_plan', 'recoveries', 'revol_bal', 'revol_util', 'sub_grade',\n",
       "       'tax_liens', 'term', 'total_acc', 'total_pymnt', 'total_pymnt_inv',\n",
       "       'total_rec_int', 'total_rec_late_fee', 'total_rec_prncp', 'url',\n",
       "       'verification_status', 'zip_code'],\n",
       "      dtype='object')"
      ]
     },
     "execution_count": 848,
     "metadata": {},
     "output_type": "execute_result"
    }
   ],
   "source": [
    "loan_raw_filtered.isnull().sum().keys().sort_values()"
   ]
  },
  {
   "cell_type": "markdown",
   "id": "309fd638",
   "metadata": {},
   "source": [
    "## Data Cleaning and Manipulation Phase"
   ]
  },
  {
   "cell_type": "markdown",
   "id": "d4b0d3f0",
   "metadata": {},
   "source": [
    "* Objectives\n",
    "    * Understand each variable values, ranges and evaluate if it is meaningful for analysis\n",
    "    * Remove column from analysis if that column is not meaningful\n",
    "    * Clean data/Impute data if required    \n",
    "    * derive type driven metrics if possible"
   ]
  },
  {
   "cell_type": "code",
   "execution_count": 849,
   "id": "3ef38653",
   "metadata": {},
   "outputs": [
    {
     "name": "stdout",
     "output_type": "stream",
     "text": [
      "37833\n",
      "(37833, 51)\n"
     ]
    }
   ],
   "source": [
    "print(loan_raw_filtered[\"id\"].nunique())\n",
    "print(loan_raw_filtered.shape)\n",
    "loan_data = loan_raw_filtered.drop([\"id\"], axis=1)\n",
    "# Id is unique variable for each applicant so not adding any value in analysis"
   ]
  },
  {
   "cell_type": "code",
   "execution_count": 850,
   "id": "0da8e78d",
   "metadata": {},
   "outputs": [
    {
     "name": "stdout",
     "output_type": "stream",
     "text": [
      "count    37833.000000\n",
      "mean        94.549679\n",
      "std        690.395333\n",
      "min          0.000000\n",
      "25%          0.000000\n",
      "50%          0.000000\n",
      "75%          0.000000\n",
      "max      29623.350000\n",
      "Name: recoveries, dtype: float64\n"
     ]
    }
   ],
   "source": [
    "print(loan_raw_filtered[\"recoveries\"].describe())\n",
    "# Post Charge off recovery is not a meaningful parameter in deciding person's defaulting behavior\n",
    "loan_data = loan_data.drop([\"recoveries\"], axis=1)"
   ]
  },
  {
   "cell_type": "code",
   "execution_count": 851,
   "id": "f851ac78",
   "metadata": {},
   "outputs": [
    {
     "name": "stdout",
     "output_type": "stream",
     "text": [
      "count          37833\n",
      "unique             1\n",
      "top       INDIVIDUAL\n",
      "freq           37833\n",
      "Name: application_type, dtype: object\n"
     ]
    }
   ],
   "source": [
    "print(loan_data[\"application_type\"].describe())\n",
    "loan_data = loan_data.drop([\"application_type\"], axis=1)\n",
    "# application_type has single value \"Individual\", so removing from analysis"
   ]
  },
  {
   "cell_type": "code",
   "execution_count": 852,
   "id": "f1f3e230",
   "metadata": {},
   "outputs": [
    {
     "name": "stdout",
     "output_type": "stream",
     "text": [
      "count     37833\n",
      "unique        1\n",
      "top           n\n",
      "freq      37833\n",
      "Name: pymnt_plan, dtype: object\n"
     ]
    }
   ],
   "source": [
    "print(loan_data[\"pymnt_plan\"].describe())\n",
    "loan_data = loan_data.drop([\"pymnt_plan\"], axis=1)\n",
    "# pymnt_plan has single value \"n\", so removing from analysis"
   ]
  },
  {
   "cell_type": "code",
   "execution_count": 853,
   "id": "cb9d83c0",
   "metadata": {},
   "outputs": [
    {
     "name": "stdout",
     "output_type": "stream",
     "text": [
      "count    3.783300e+04\n",
      "mean     8.597925e+05\n",
      "std      2.542345e+05\n",
      "min      8.036400e+04\n",
      "25%      6.732150e+05\n",
      "50%      8.556130e+05\n",
      "75%      1.049074e+06\n",
      "max      1.314167e+06\n",
      "Name: member_id, dtype: float64\n",
      "37833\n"
     ]
    }
   ],
   "source": [
    "print(loan_data[\"member_id\"].describe())\n",
    "print(loan_data[\"member_id\"].nunique())\n",
    "loan_data = loan_data.drop([\"member_id\"], axis=1)\n",
    "# pymnt_plan has all unique values, so removing it from analysis"
   ]
  },
  {
   "cell_type": "code",
   "execution_count": 854,
   "id": "29c39429",
   "metadata": {},
   "outputs": [
    {
     "name": "stdout",
     "output_type": "stream",
     "text": [
      "count    37833.0\n",
      "mean         0.0\n",
      "std          0.0\n",
      "min          0.0\n",
      "25%          0.0\n",
      "50%          0.0\n",
      "75%          0.0\n",
      "max          0.0\n",
      "Name: tax_liens, dtype: float64\n",
      "1\n"
     ]
    }
   ],
   "source": [
    "print(loan_data[\"tax_liens\"].describe())\n",
    "print(loan_data[\"tax_liens\"].nunique())\n",
    "loan_data = loan_data.drop([\"tax_liens\"], axis=1)\n",
    "# tax_liens has only one uniqe value 0.0, so removing it from analysis"
   ]
  },
  {
   "cell_type": "code",
   "execution_count": 855,
   "id": "ff782301",
   "metadata": {},
   "outputs": [
    {
     "name": "stdout",
     "output_type": "stream",
     "text": [
      "count                                                 37833\n",
      "unique                                                37833\n",
      "top       https://lendingclub.com/browse/loanDetail.acti...\n",
      "freq                                                      1\n",
      "Name: url, dtype: object\n",
      "37833\n"
     ]
    }
   ],
   "source": [
    "print(loan_data[\"url\"].describe())\n",
    "print(loan_data[\"url\"].nunique())\n",
    "loan_data = loan_data.drop([\"url\"], axis=1)\n",
    "# url has all uniqe values, so removing it from analysis"
   ]
  },
  {
   "cell_type": "code",
   "execution_count": 856,
   "id": "5005524f",
   "metadata": {},
   "outputs": [
    {
     "name": "stdout",
     "output_type": "stream",
     "text": [
      "count     37833\n",
      "unique        1\n",
      "top           f\n",
      "freq      37833\n",
      "Name: initial_list_status, dtype: object\n",
      "1\n"
     ]
    }
   ],
   "source": [
    "print(loan_data[\"initial_list_status\"].describe())\n",
    "print(loan_data[\"initial_list_status\"].nunique())\n",
    "loan_data = loan_data.drop([\"initial_list_status\"], axis=1)\n",
    "# initial_list_status has only one possible value \"f\" so remvoing it from analysis"
   ]
  },
  {
   "cell_type": "code",
   "execution_count": 857,
   "id": "82c90a6e",
   "metadata": {},
   "outputs": [],
   "source": [
    "# total_rec_late_fee ,collection_recovery_fee are not meaning ful for our analysis\n",
    "loan_data = loan_data.drop([\"collection_recovery_fee\",\"total_rec_late_fee\"], axis=1)"
   ]
  },
  {
   "cell_type": "code",
   "execution_count": 858,
   "id": "0d0cab57",
   "metadata": {},
   "outputs": [
    {
     "name": "stdout",
     "output_type": "stream",
     "text": [
      "count    37833.0\n",
      "mean         1.0\n",
      "std          0.0\n",
      "min          1.0\n",
      "25%          1.0\n",
      "50%          1.0\n",
      "75%          1.0\n",
      "max          1.0\n",
      "Name: policy_code, dtype: float64\n",
      "1\n"
     ]
    }
   ],
   "source": [
    "print(loan_data[\"policy_code\"].describe())\n",
    "print(loan_data[\"policy_code\"].nunique())\n",
    "# policy_code is having only one value, so remvoing it from analysis\n",
    "loan_data = loan_data.drop([\"policy_code\"], axis=1)"
   ]
  },
  {
   "cell_type": "code",
   "execution_count": 859,
   "id": "6370e219",
   "metadata": {},
   "outputs": [
    {
     "data": {
      "text/plain": [
       "Index(['loan_amnt', 'funded_amnt', 'funded_amnt_inv', 'term', 'int_rate',\n",
       "       'installment', 'grade', 'sub_grade', 'emp_length', 'home_ownership',\n",
       "       'annual_inc', 'verification_status', 'issue_d', 'loan_status',\n",
       "       'purpose', 'zip_code', 'addr_state', 'dti', 'delinq_2yrs',\n",
       "       'earliest_cr_line', 'inq_last_6mths', 'open_acc', 'pub_rec',\n",
       "       'revol_bal', 'revol_util', 'total_acc', 'out_prncp', 'out_prncp_inv',\n",
       "       'total_pymnt', 'total_pymnt_inv', 'total_rec_prncp', 'total_rec_int',\n",
       "       'last_pymnt_d', 'last_pymnt_amnt', 'last_credit_pull_d',\n",
       "       'collections_12_mths_ex_med', 'acc_now_delinq',\n",
       "       'chargeoff_within_12_mths', 'delinq_amnt', 'pub_rec_bankruptcies'],\n",
       "      dtype='object')"
      ]
     },
     "execution_count": 859,
     "metadata": {},
     "output_type": "execute_result"
    }
   ],
   "source": [
    "loan_data.columns"
   ]
  },
  {
   "cell_type": "code",
   "execution_count": 860,
   "id": "83d90229",
   "metadata": {},
   "outputs": [
    {
     "data": {
      "text/plain": [
       "<Axes: ylabel='loan_amnt'>"
      ]
     },
     "execution_count": 860,
     "metadata": {},
     "output_type": "execute_result"
    },
    {
     "data": {
      "image/png": "[encoded data removed]",
      "text/plain": [
       "<Figure size 640x480 with 1 Axes>"
      ]
     },
     "metadata": {},
     "output_type": "display_data"
    }
   ],
   "source": [
    "# plottting box plot for loan amount\n",
    "sns.boxplot(data=loan_data,y=\"loan_amnt\")"
   ]
  },
  {
   "cell_type": "code",
   "execution_count": 861,
   "id": "3459fc14",
   "metadata": {},
   "outputs": [
    {
     "data": {
      "text/plain": [
       "<Axes: ylabel='annual_inc'>"
      ]
     },
     "execution_count": 861,
     "metadata": {},
     "output_type": "execute_result"
    },
    {
     "data": {
      "image/png": "[encoded data removed]",
      "text/plain": [
       "<Figure size 640x480 with 1 Axes>"
      ]
     },
     "metadata": {},
     "output_type": "display_data"
    }
   ],
   "source": [
    "# plottting box plot for annual_inc\n",
    "sns.boxplot(data=loan_data,y=\"annual_inc\")"
   ]
  },
  {
   "cell_type": "code",
   "execution_count": 862,
   "id": "8b768a58",
   "metadata": {},
   "outputs": [
    {
     "data": {
      "text/plain": [
       "<Axes: ylabel='annual_inc'>"
      ]
     },
     "execution_count": 862,
     "metadata": {},
     "output_type": "execute_result"
    },
    {
     "data": {
      "image/png": "[encoded data removed]",
      "text/plain": [
       "<Figure size 640x480 with 1 Axes>"
      ]
     },
     "metadata": {},
     "output_type": "display_data"
    }
   ],
   "source": [
    "# from the above visual it seems, there are very few data points which are skewed towards higher side, lets remove top 1% data point\n",
    "loan_data_filtered = loan_data[loan_data[\"annual_inc\"] < loan_data[\"annual_inc\"].quantile(0.99)]\n",
    "\n",
    "sns.boxplot(data=loan_data_filtered,y=\"annual_inc\")"
   ]
  },
  {
   "cell_type": "code",
   "execution_count": 863,
   "id": "2b155cdb",
   "metadata": {},
   "outputs": [
    {
     "data": {
      "text/plain": [
       "0    10.65%\n",
       "1    15.27%\n",
       "2    15.96%\n",
       "3    13.49%\n",
       "4    12.69%\n",
       "Name: int_rate, dtype: object"
      ]
     },
     "execution_count": 863,
     "metadata": {},
     "output_type": "execute_result"
    }
   ],
   "source": [
    "loan_data_filtered[\"int_rate\"].head()\n",
    "# we need to remove % sign from the int_rate column and make it float type"
   ]
  },
  {
   "cell_type": "code",
   "execution_count": 864,
   "id": "81adb2cc",
   "metadata": {},
   "outputs": [
    {
     "name": "stderr",
     "output_type": "stream",
     "text": [
      "C:\\Users\\kchaniyara\\AppData\\Local\\Temp\\ipykernel_24540\\200009837.py:1: SettingWithCopyWarning: \n",
      "A value is trying to be set on a copy of a slice from a DataFrame.\n",
      "Try using .loc[row_indexer,col_indexer] = value instead\n",
      "\n",
      "See the caveats in the documentation: https://pandas.pydata.org/pandas-docs/stable/user_guide/indexing.html#returning-a-view-versus-a-copy\n",
      "  loan_data_filtered[\"int_rate\"] = loan_data_filtered[\"int_rate\"].apply(lambda x: float(x[:-1]))\n"
     ]
    },
    {
     "data": {
      "text/plain": [
       "count    37450.000000\n",
       "mean        12.055567\n",
       "std          3.726694\n",
       "min          5.420000\n",
       "25%          9.250000\n",
       "50%         11.860000\n",
       "75%         14.610000\n",
       "max         24.590000\n",
       "Name: int_rate, dtype: float64"
      ]
     },
     "execution_count": 864,
     "metadata": {},
     "output_type": "execute_result"
    }
   ],
   "source": [
    "loan_data_filtered[\"int_rate\"] = loan_data_filtered[\"int_rate\"].apply(lambda x: float(x[:-1]))\n",
    "loan_data_filtered[\"int_rate\"].describe()"
   ]
  },
  {
   "cell_type": "code",
   "execution_count": 865,
   "id": "5df3d8c6",
   "metadata": {},
   "outputs": [
    {
     "data": {
      "text/plain": [
       "<Axes: ylabel='int_rate'>"
      ]
     },
     "execution_count": 865,
     "metadata": {},
     "output_type": "execute_result"
    },
    {
     "data": {
      "image/png": "[encoded data removed]",
      "text/plain": [
       "<Figure size 640x480 with 1 Axes>"
      ]
     },
     "metadata": {},
     "output_type": "display_data"
    }
   ],
   "source": [
    "sns.boxplot(data=loan_data_filtered,y=\"int_rate\")"
   ]
  },
  {
   "cell_type": "code",
   "execution_count": 866,
   "id": "adfe158b",
   "metadata": {},
   "outputs": [
    {
     "data": {
      "text/plain": [
       "<Axes: ylabel='installment'>"
      ]
     },
     "execution_count": 866,
     "metadata": {},
     "output_type": "execute_result"
    },
    {
     "data": {
      "image/png": "[encoded data removed]",
      "text/plain": [
       "<Figure size 640x480 with 1 Axes>"
      ]
     },
     "metadata": {},
     "output_type": "display_data"
    }
   ],
   "source": [
    "# lets plot boxplot for installment amount\n",
    "sns.boxplot(data=loan_data_filtered,y=\"installment\")"
   ]
  },
  {
   "cell_type": "code",
   "execution_count": 875,
   "id": "c7121432",
   "metadata": {},
   "outputs": [
    {
     "data": {
      "text/plain": [
       "<Axes: xlabel='grade', ylabel='loan_amnt'>"
      ]
     },
     "execution_count": 875,
     "metadata": {},
     "output_type": "execute_result"
    },
    {
     "data": {
      "image/png": "[encoded data removed]",
      "text/plain": [
       "<Figure size 640x480 with 1 Axes>"
      ]
     },
     "metadata": {},
     "output_type": "display_data"
    }
   ],
   "source": [
    "sns.boxplot(data=loan_data_filtered,y=\"loan_amnt\",x=\"grade\", order=sorted(loan_data_filtered[\"grade\"].unique()))\n",
    "# median loan amount is inceasing as loan grade degrades "
   ]
  },
  {
   "cell_type": "code",
   "execution_count": 882,
   "id": "b9d79c15",
   "metadata": {},
   "outputs": [
    {
     "data": {
      "text/plain": [
       "<Axes: xlabel='grade', ylabel='loan_amnt'>"
      ]
     },
     "execution_count": 882,
     "metadata": {},
     "output_type": "execute_result"
    },
    {
     "data": {
      "image/png": "[encoded data removed]",
      "text/plain": [
       "<Figure size 640x480 with 1 Axes>"
      ]
     },
     "metadata": {},
     "output_type": "display_data"
    }
   ],
   "source": [
    "sns.barplot(data=loan_data_filtered,y=\"loan_amnt\",x=\"grade\", estimator=\"mean\", order=sorted(loan_data_filtered[\"grade\"].unique()))\n",
    "\n",
    "# mean loan amount is inceasing as loan grade degrades "
   ]
  },
  {
   "cell_type": "code",
   "execution_count": 883,
   "id": "984ca907",
   "metadata": {},
   "outputs": [
    {
     "data": {
      "text/plain": [
       "<Axes: xlabel='grade', ylabel='int_rate'>"
      ]
     },
     "execution_count": 883,
     "metadata": {},
     "output_type": "execute_result"
    },
    {
     "data": {
      "image/png": "[encoded data removed]",
      "text/plain": [
       "<Figure size 640x480 with 1 Axes>"
      ]
     },
     "metadata": {},
     "output_type": "display_data"
    }
   ],
   "source": [
    "sns.barplot(data=loan_data_filtered,y=\"int_rate\",x=\"grade\", estimator=\"mean\", order=sorted(loan_data_filtered[\"grade\"].unique()))"
   ]
  },
  {
   "cell_type": "code",
   "execution_count": null,
   "id": "ca60ed6b",
   "metadata": {},
   "outputs": [],
   "source": []
  }
 ],
 "metadata": {
  "kernelspec": {
   "display_name": "Python 3 (ipykernel)",
   "language": "python",
   "name": "python3"
  },
  "language_info": {
   "codemirror_mode": {
    "name": "ipython",
    "version": 3
   },
   "file_extension": ".py",
   "mimetype": "text/x-python",
   "name": "python",
   "nbconvert_exporter": "python",
   "pygments_lexer": "ipython3",
   "version": "3.11.5"
  }
 },
 "nbformat": 4,
 "nbformat_minor": 5
}
