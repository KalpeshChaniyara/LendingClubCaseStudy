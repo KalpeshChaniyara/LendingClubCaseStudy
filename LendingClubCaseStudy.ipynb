{
 "cells": [
  {
   "cell_type": "markdown",
   "id": "74a9b5d6",
   "metadata": {},
   "source": [
    "# Shree Ganeshay Namah\n",
    "\n"
   ]
  },
  {
   "cell_type": "markdown",
   "id": "c3b990e0",
   "metadata": {},
   "source": [
    "## Lending Club Case Study"
   ]
  },
  {
   "cell_type": "code",
   "execution_count": 422,
   "id": "a22cbb34",
   "metadata": {},
   "outputs": [],
   "source": [
    "import numpy as np\n",
    "import pandas as pd\n",
    "import matplotlib.pyplot as plt\n",
    "import seaborn as sns\n",
    "\n",
    "import warnings\n",
    "warnings.filterwarnings('ignore')\n",
    "\n"
   ]
  },
  {
   "cell_type": "markdown",
   "id": "f198c3a2",
   "metadata": {},
   "source": [
    "## Data Understanding & Cleansing Phase"
   ]
  },
  {
   "cell_type": "markdown",
   "id": "0bc81ec3",
   "metadata": {},
   "source": [
    "* Objectivs\n",
    "    * Removing columns having all null values\n",
    "    * Removing columns having significant null values\n",
    "    * Removing rows where important columns have null values"
   ]
  },
  {
   "cell_type": "code",
   "execution_count": 423,
   "id": "71e3106b",
   "metadata": {
    "scrolled": true
   },
   "outputs": [],
   "source": [
    "loan_raw = pd.read_csv(\"loan.csv\")"
   ]
  },
  {
   "cell_type": "code",
   "execution_count": 424,
   "id": "3c70838d",
   "metadata": {},
   "outputs": [
    {
     "data": {
      "text/plain": [
       "(39717, 111)"
      ]
     },
     "execution_count": 424,
     "metadata": {},
     "output_type": "execute_result"
    }
   ],
   "source": [
    "loan_raw.shape"
   ]
  },
  {
   "cell_type": "markdown",
   "id": "d509cf33",
   "metadata": {},
   "source": [
    "removing columns having all null values"
   ]
  },
  {
   "cell_type": "code",
   "execution_count": 425,
   "id": "6f2b60a2",
   "metadata": {},
   "outputs": [],
   "source": [
    "loan_raw_filtered = loan_raw.filter( items=(loan_raw.isnull().sum() < 39717).loc[lambda x:x == True].index.tolist())"
   ]
  },
  {
   "cell_type": "code",
   "execution_count": 426,
   "id": "09520557",
   "metadata": {},
   "outputs": [
    {
     "data": {
      "text/plain": [
       "(39717, 57)"
      ]
     },
     "execution_count": 426,
     "metadata": {},
     "output_type": "execute_result"
    }
   ],
   "source": [
    "loan_raw_filtered.shape"
   ]
  },
  {
   "cell_type": "code",
   "execution_count": 427,
   "id": "f445d9a2",
   "metadata": {
    "scrolled": true
   },
   "outputs": [
    {
     "data": {
      "text/plain": [
       "next_pymnt_d                  38577\n",
       "mths_since_last_record        36931\n",
       "mths_since_last_delinq        25682\n",
       "desc                          12942\n",
       "emp_title                      2459\n",
       "emp_length                     1075\n",
       "pub_rec_bankruptcies            697\n",
       "last_pymnt_d                     71\n",
       "chargeoff_within_12_mths         56\n",
       "collections_12_mths_ex_med       56\n",
       "revol_util                       50\n",
       "tax_liens                        39\n",
       "title                            11\n",
       "last_credit_pull_d                2\n",
       "home_ownership                    0\n",
       "int_rate                          0\n",
       "out_prncp_inv                     0\n",
       "total_pymnt                       0\n",
       "total_pymnt_inv                   0\n",
       "total_rec_prncp                   0\n",
       "total_rec_int                     0\n",
       "total_rec_late_fee                0\n",
       "recoveries                        0\n",
       "collection_recovery_fee           0\n",
       "term                              0\n",
       "last_pymnt_amnt                   0\n",
       "initial_list_status               0\n",
       "funded_amnt_inv                   0\n",
       "policy_code                       0\n",
       "application_type                  0\n",
       "acc_now_delinq                    0\n",
       "funded_amnt                       0\n",
       "delinq_amnt                       0\n",
       "loan_amnt                         0\n",
       "out_prncp                         0\n",
       "total_acc                         0\n",
       "annual_inc                        0\n",
       "addr_state                        0\n",
       "verification_status               0\n",
       "issue_d                           0\n",
       "loan_status                       0\n",
       "pymnt_plan                        0\n",
       "url                               0\n",
       "sub_grade                         0\n",
       "purpose                           0\n",
       "zip_code                          0\n",
       "dti                               0\n",
       "installment                       0\n",
       "delinq_2yrs                       0\n",
       "earliest_cr_line                  0\n",
       "inq_last_6mths                    0\n",
       "member_id                         0\n",
       "grade                             0\n",
       "open_acc                          0\n",
       "pub_rec                           0\n",
       "revol_bal                         0\n",
       "id                                0\n",
       "dtype: int64"
      ]
     },
     "execution_count": 427,
     "metadata": {},
     "output_type": "execute_result"
    }
   ],
   "source": [
    "loan_raw_filtered.isnull().sum().sort_values(ascending=False)"
   ]
  },
  {
   "cell_type": "markdown",
   "id": "3e7f4263",
   "metadata": {},
   "source": [
    "Columns \"mths_since_last_delinq\", \"mths_since_last_record\",\"next_pymnt_d\" and \"desc\" are having significant number of null values, so excluding them from analysis "
   ]
  },
  {
   "cell_type": "code",
   "execution_count": 428,
   "id": "dc3a2b98",
   "metadata": {},
   "outputs": [],
   "source": [
    "loan_raw_filtered = loan_raw_filtered.drop([\"mths_since_last_delinq\", \"mths_since_last_record\",\"next_pymnt_d\",\"desc\"], axis=1)"
   ]
  },
  {
   "cell_type": "code",
   "execution_count": 429,
   "id": "32d64441",
   "metadata": {},
   "outputs": [
    {
     "data": {
      "text/plain": [
       "emp_title                     2459\n",
       "emp_length                    1075\n",
       "pub_rec_bankruptcies           697\n",
       "last_pymnt_d                    71\n",
       "collections_12_mths_ex_med      56\n",
       "chargeoff_within_12_mths        56\n",
       "revol_util                      50\n",
       "tax_liens                       39\n",
       "title                           11\n",
       "last_credit_pull_d               2\n",
       "total_rec_prncp                  0\n",
       "out_prncp                        0\n",
       "initial_list_status              0\n",
       "out_prncp_inv                    0\n",
       "total_acc                        0\n",
       "total_pymnt                      0\n",
       "total_pymnt_inv                  0\n",
       "collection_recovery_fee          0\n",
       "total_rec_int                    0\n",
       "total_rec_late_fee               0\n",
       "recoveries                       0\n",
       "pub_rec                          0\n",
       "last_pymnt_amnt                  0\n",
       "policy_code                      0\n",
       "application_type                 0\n",
       "acc_now_delinq                   0\n",
       "delinq_amnt                      0\n",
       "revol_bal                        0\n",
       "id                               0\n",
       "open_acc                         0\n",
       "member_id                        0\n",
       "loan_amnt                        0\n",
       "funded_amnt                      0\n",
       "funded_amnt_inv                  0\n",
       "term                             0\n",
       "int_rate                         0\n",
       "installment                      0\n",
       "grade                            0\n",
       "sub_grade                        0\n",
       "home_ownership                   0\n",
       "annual_inc                       0\n",
       "verification_status              0\n",
       "issue_d                          0\n",
       "loan_status                      0\n",
       "pymnt_plan                       0\n",
       "url                              0\n",
       "purpose                          0\n",
       "zip_code                         0\n",
       "addr_state                       0\n",
       "dti                              0\n",
       "delinq_2yrs                      0\n",
       "earliest_cr_line                 0\n",
       "inq_last_6mths                   0\n",
       "dtype: int64"
      ]
     },
     "execution_count": 429,
     "metadata": {},
     "output_type": "execute_result"
    }
   ],
   "source": [
    "loan_raw_filtered.isnull().sum().sort_values(ascending=False)"
   ]
  },
  {
   "cell_type": "markdown",
   "id": "fd2fa4df",
   "metadata": {},
   "source": [
    "emp_length might be related to person getting default on loan, so removing rows where emp_length is having null values (1075 records out of 39717)"
   ]
  },
  {
   "cell_type": "code",
   "execution_count": 430,
   "id": "04613f46",
   "metadata": {},
   "outputs": [],
   "source": [
    "loan_raw_filtered = loan_raw_filtered[loan_raw_filtered[\"emp_length\"].isnull() == False]"
   ]
  },
  {
   "cell_type": "code",
   "execution_count": 431,
   "id": "b5db4842",
   "metadata": {},
   "outputs": [
    {
     "data": {
      "text/plain": [
       "emp_title                     1440\n",
       "pub_rec_bankruptcies           697\n",
       "last_pymnt_d                    66\n",
       "chargeoff_within_12_mths        56\n",
       "collections_12_mths_ex_med      56\n",
       "revol_util                      47\n",
       "tax_liens                       39\n",
       "title                           10\n",
       "last_credit_pull_d               2\n",
       "total_rec_prncp                  0\n",
       "total_acc                        0\n",
       "initial_list_status              0\n",
       "out_prncp                        0\n",
       "out_prncp_inv                    0\n",
       "total_pymnt                      0\n",
       "total_pymnt_inv                  0\n",
       "collection_recovery_fee          0\n",
       "total_rec_int                    0\n",
       "total_rec_late_fee               0\n",
       "recoveries                       0\n",
       "pub_rec                          0\n",
       "last_pymnt_amnt                  0\n",
       "policy_code                      0\n",
       "application_type                 0\n",
       "acc_now_delinq                   0\n",
       "delinq_amnt                      0\n",
       "revol_bal                        0\n",
       "id                               0\n",
       "open_acc                         0\n",
       "annual_inc                       0\n",
       "loan_amnt                        0\n",
       "funded_amnt                      0\n",
       "funded_amnt_inv                  0\n",
       "term                             0\n",
       "int_rate                         0\n",
       "installment                      0\n",
       "grade                            0\n",
       "sub_grade                        0\n",
       "emp_length                       0\n",
       "home_ownership                   0\n",
       "verification_status              0\n",
       "member_id                        0\n",
       "issue_d                          0\n",
       "loan_status                      0\n",
       "pymnt_plan                       0\n",
       "url                              0\n",
       "purpose                          0\n",
       "zip_code                         0\n",
       "addr_state                       0\n",
       "dti                              0\n",
       "delinq_2yrs                      0\n",
       "earliest_cr_line                 0\n",
       "inq_last_6mths                   0\n",
       "dtype: int64"
      ]
     },
     "execution_count": 431,
     "metadata": {},
     "output_type": "execute_result"
    }
   ],
   "source": [
    "loan_raw_filtered.isnull().sum().sort_values(ascending=False)"
   ]
  },
  {
   "cell_type": "code",
   "execution_count": 432,
   "id": "824b6484",
   "metadata": {},
   "outputs": [
    {
     "data": {
      "text/plain": [
       "emp_title\n",
       "US Army                              134\n",
       "Bank of America                      109\n",
       "IBM                                   66\n",
       "AT&T                                  59\n",
       "Kaiser Permanente                     56\n",
       "                                    ... \n",
       "Five County Assoc of Governments       1\n",
       "Far Niente Winery Inc                  1\n",
       "Tobyhanna Army Depot                   1\n",
       "Community College of Philadelphia      1\n",
       "Evergreen Center                       1\n",
       "Name: count, Length: 28775, dtype: int64"
      ]
     },
     "execution_count": 432,
     "metadata": {},
     "output_type": "execute_result"
    }
   ],
   "source": [
    "loan_raw_filtered[\"emp_title\"].value_counts()"
   ]
  },
  {
   "cell_type": "code",
   "execution_count": 433,
   "id": "d9131a0e",
   "metadata": {},
   "outputs": [
    {
     "data": {
      "text/plain": [
       "count       37202\n",
       "unique      28775\n",
       "top       US Army\n",
       "freq          134\n",
       "Name: emp_title, dtype: object"
      ]
     },
     "execution_count": 433,
     "metadata": {},
     "output_type": "execute_result"
    }
   ],
   "source": [
    "loan_raw_filtered[\"emp_title\"].describe()"
   ]
  },
  {
   "cell_type": "markdown",
   "id": "6427e79d",
   "metadata": {},
   "source": [
    "Since emp_title is not numeric value and is having large number of unique values (28775 out of 37202), it is not going to add more insights on person getting default, so excluding this column from analysis"
   ]
  },
  {
   "cell_type": "code",
   "execution_count": 434,
   "id": "3ce4d17b",
   "metadata": {},
   "outputs": [],
   "source": [
    "loan_raw_filtered = loan_raw_filtered.drop([\"emp_title\"], axis=1)"
   ]
  },
  {
   "cell_type": "markdown",
   "id": "15108951",
   "metadata": {},
   "source": [
    "pub_rec_bankruptcies can very well influence person's repeating defaulting behavior so let's remove the null values rows for it"
   ]
  },
  {
   "cell_type": "code",
   "execution_count": 435,
   "id": "05b39576",
   "metadata": {},
   "outputs": [],
   "source": [
    "loan_raw_filtered = loan_raw_filtered[loan_raw_filtered[\"pub_rec_bankruptcies\"].isnull() == False]"
   ]
  },
  {
   "cell_type": "code",
   "execution_count": 436,
   "id": "1e0330cb",
   "metadata": {},
   "outputs": [
    {
     "data": {
      "text/plain": [
       "last_pymnt_d                  66\n",
       "revol_util                    47\n",
       "title                         10\n",
       "chargeoff_within_12_mths       2\n",
       "collections_12_mths_ex_med     2\n",
       "last_credit_pull_d             1\n",
       "id                             0\n",
       "total_rec_int                  0\n",
       "total_acc                      0\n",
       "initial_list_status            0\n",
       "out_prncp                      0\n",
       "out_prncp_inv                  0\n",
       "total_pymnt                    0\n",
       "total_pymnt_inv                0\n",
       "total_rec_prncp                0\n",
       "recoveries                     0\n",
       "total_rec_late_fee             0\n",
       "pub_rec                        0\n",
       "collection_recovery_fee        0\n",
       "last_pymnt_amnt                0\n",
       "policy_code                    0\n",
       "application_type               0\n",
       "acc_now_delinq                 0\n",
       "delinq_amnt                    0\n",
       "pub_rec_bankruptcies           0\n",
       "revol_bal                      0\n",
       "open_acc                       0\n",
       "member_id                      0\n",
       "annual_inc                     0\n",
       "loan_amnt                      0\n",
       "funded_amnt                    0\n",
       "funded_amnt_inv                0\n",
       "term                           0\n",
       "int_rate                       0\n",
       "installment                    0\n",
       "grade                          0\n",
       "sub_grade                      0\n",
       "emp_length                     0\n",
       "home_ownership                 0\n",
       "verification_status            0\n",
       "inq_last_6mths                 0\n",
       "issue_d                        0\n",
       "loan_status                    0\n",
       "pymnt_plan                     0\n",
       "url                            0\n",
       "purpose                        0\n",
       "zip_code                       0\n",
       "addr_state                     0\n",
       "dti                            0\n",
       "delinq_2yrs                    0\n",
       "earliest_cr_line               0\n",
       "tax_liens                      0\n",
       "dtype: int64"
      ]
     },
     "execution_count": 436,
     "metadata": {},
     "output_type": "execute_result"
    }
   ],
   "source": [
    "loan_raw_filtered.isnull().sum().sort_values(ascending=False)"
   ]
  },
  {
   "cell_type": "code",
   "execution_count": 437,
   "id": "0809d0b4",
   "metadata": {},
   "outputs": [
    {
     "data": {
      "text/plain": [
       "count     37898\n",
       "unique     1087\n",
       "top          0%\n",
       "freq        906\n",
       "Name: revol_util, dtype: object"
      ]
     },
     "execution_count": 437,
     "metadata": {},
     "output_type": "execute_result"
    }
   ],
   "source": [
    "loan_raw_filtered[\"revol_util\"].describe()"
   ]
  },
  {
   "cell_type": "markdown",
   "id": "d3e9a897",
   "metadata": {},
   "source": [
    "Since \"last_pymnt_d\" and \"rvevol_util\" might be related to person getting default on loan, let's remove null value rows "
   ]
  },
  {
   "cell_type": "code",
   "execution_count": 438,
   "id": "f694a440",
   "metadata": {},
   "outputs": [],
   "source": [
    "loan_raw_filtered = loan_raw_filtered[loan_raw_filtered[\"last_pymnt_d\"].isnull() == False]\n",
    "loan_raw_filtered = loan_raw_filtered[loan_raw_filtered[\"revol_util\"].isnull() == False]"
   ]
  },
  {
   "cell_type": "code",
   "execution_count": 439,
   "id": "a104402f",
   "metadata": {},
   "outputs": [
    {
     "data": {
      "text/plain": [
       "title                         10\n",
       "chargeoff_within_12_mths       2\n",
       "collections_12_mths_ex_med     2\n",
       "last_credit_pull_d             1\n",
       "id                             0\n",
       "total_rec_int                  0\n",
       "revol_util                     0\n",
       "total_acc                      0\n",
       "initial_list_status            0\n",
       "out_prncp                      0\n",
       "out_prncp_inv                  0\n",
       "total_pymnt                    0\n",
       "total_pymnt_inv                0\n",
       "total_rec_prncp                0\n",
       "recoveries                     0\n",
       "total_rec_late_fee             0\n",
       "pub_rec                        0\n",
       "collection_recovery_fee        0\n",
       "last_pymnt_d                   0\n",
       "last_pymnt_amnt                0\n",
       "policy_code                    0\n",
       "application_type               0\n",
       "acc_now_delinq                 0\n",
       "delinq_amnt                    0\n",
       "pub_rec_bankruptcies           0\n",
       "revol_bal                      0\n",
       "open_acc                       0\n",
       "member_id                      0\n",
       "annual_inc                     0\n",
       "loan_amnt                      0\n",
       "funded_amnt                    0\n",
       "funded_amnt_inv                0\n",
       "term                           0\n",
       "int_rate                       0\n",
       "installment                    0\n",
       "grade                          0\n",
       "sub_grade                      0\n",
       "emp_length                     0\n",
       "home_ownership                 0\n",
       "verification_status            0\n",
       "inq_last_6mths                 0\n",
       "issue_d                        0\n",
       "loan_status                    0\n",
       "pymnt_plan                     0\n",
       "url                            0\n",
       "purpose                        0\n",
       "zip_code                       0\n",
       "addr_state                     0\n",
       "dti                            0\n",
       "delinq_2yrs                    0\n",
       "earliest_cr_line               0\n",
       "tax_liens                      0\n",
       "dtype: int64"
      ]
     },
     "execution_count": 439,
     "metadata": {},
     "output_type": "execute_result"
    }
   ],
   "source": [
    "loan_raw_filtered.isnull().sum().sort_values(ascending=False)\n"
   ]
  },
  {
   "cell_type": "code",
   "execution_count": 440,
   "id": "eeba2c27",
   "metadata": {},
   "outputs": [
    {
     "data": {
      "text/plain": [
       "title\n",
       "Debt Consolidation                        2118\n",
       "Debt Consolidation Loan                   1683\n",
       "Personal Loan                              616\n",
       "Consolidation                              498\n",
       "debt consolidation                         480\n",
       "                                          ... \n",
       "Pay it Down                                  1\n",
       "Debt Free Goal                               1\n",
       "Fix it up                                    1\n",
       "don't sell the Cadillac.                     1\n",
       "Merging 2 Accounts into one to save $$       1\n",
       "Name: count, Length: 18678, dtype: int64"
      ]
     },
     "execution_count": 440,
     "metadata": {},
     "output_type": "execute_result"
    }
   ],
   "source": [
    "loan_raw_filtered[\"title\"].value_counts()"
   ]
  },
  {
   "cell_type": "code",
   "execution_count": 441,
   "id": "17e5b2d4",
   "metadata": {},
   "outputs": [
    {
     "data": {
      "text/plain": [
       "count                  37826\n",
       "unique                 18678\n",
       "top       Debt Consolidation\n",
       "freq                    2118\n",
       "Name: title, dtype: object"
      ]
     },
     "execution_count": 441,
     "metadata": {},
     "output_type": "execute_result"
    }
   ],
   "source": [
    "loan_raw_filtered[\"title\"].describe()"
   ]
  },
  {
   "cell_type": "markdown",
   "id": "6ed1447b",
   "metadata": {},
   "source": [
    "as title is having large number of uniqe values and it is not a numeric value, let's remove it from analysis"
   ]
  },
  {
   "cell_type": "code",
   "execution_count": 442,
   "id": "2b17ec18",
   "metadata": {},
   "outputs": [],
   "source": [
    "loan_raw_filtered = loan_raw_filtered.drop([\"title\"], axis=1)"
   ]
  },
  {
   "cell_type": "code",
   "execution_count": 443,
   "id": "85189960",
   "metadata": {},
   "outputs": [
    {
     "data": {
      "text/plain": [
       "chargeoff_within_12_mths      2\n",
       "collections_12_mths_ex_med    2\n",
       "last_credit_pull_d            1\n",
       "id                            0\n",
       "total_rec_late_fee            0\n",
       "revol_util                    0\n",
       "total_acc                     0\n",
       "initial_list_status           0\n",
       "out_prncp                     0\n",
       "out_prncp_inv                 0\n",
       "total_pymnt                   0\n",
       "total_pymnt_inv               0\n",
       "total_rec_prncp               0\n",
       "total_rec_int                 0\n",
       "collection_recovery_fee       0\n",
       "recoveries                    0\n",
       "pub_rec                       0\n",
       "last_pymnt_d                  0\n",
       "last_pymnt_amnt               0\n",
       "policy_code                   0\n",
       "application_type              0\n",
       "acc_now_delinq                0\n",
       "delinq_amnt                   0\n",
       "pub_rec_bankruptcies          0\n",
       "revol_bal                     0\n",
       "open_acc                      0\n",
       "member_id                     0\n",
       "annual_inc                    0\n",
       "loan_amnt                     0\n",
       "funded_amnt                   0\n",
       "funded_amnt_inv               0\n",
       "term                          0\n",
       "int_rate                      0\n",
       "installment                   0\n",
       "grade                         0\n",
       "sub_grade                     0\n",
       "emp_length                    0\n",
       "home_ownership                0\n",
       "verification_status           0\n",
       "inq_last_6mths                0\n",
       "issue_d                       0\n",
       "loan_status                   0\n",
       "pymnt_plan                    0\n",
       "url                           0\n",
       "purpose                       0\n",
       "zip_code                      0\n",
       "addr_state                    0\n",
       "dti                           0\n",
       "delinq_2yrs                   0\n",
       "earliest_cr_line              0\n",
       "tax_liens                     0\n",
       "dtype: int64"
      ]
     },
     "execution_count": 443,
     "metadata": {},
     "output_type": "execute_result"
    }
   ],
   "source": [
    "loan_raw_filtered.isnull().sum().sort_values(ascending=False)"
   ]
  },
  {
   "cell_type": "code",
   "execution_count": 444,
   "id": "307d5adf",
   "metadata": {},
   "outputs": [
    {
     "data": {
      "text/plain": [
       "(37836, 51)"
      ]
     },
     "execution_count": 444,
     "metadata": {},
     "output_type": "execute_result"
    }
   ],
   "source": [
    "loan_raw_filtered.shape"
   ]
  },
  {
   "cell_type": "markdown",
   "id": "d615e86a",
   "metadata": {},
   "source": [
    "excluding null value rows for \"chargeoff_within_12_mths\", \"collections_12_mths_ex_med\" and \"last_credit_pull_d\" as there are very few such rows"
   ]
  },
  {
   "cell_type": "code",
   "execution_count": 445,
   "id": "a5f08090",
   "metadata": {},
   "outputs": [],
   "source": [
    "loan_raw_filtered = loan_raw_filtered[loan_raw_filtered[\"chargeoff_within_12_mths\"].isnull() == False]\n",
    "loan_raw_filtered = loan_raw_filtered[loan_raw_filtered[\"collections_12_mths_ex_med\"].isnull() == False]\n",
    "loan_raw_filtered = loan_raw_filtered[loan_raw_filtered[\"last_credit_pull_d\"].isnull() == False]"
   ]
  },
  {
   "cell_type": "code",
   "execution_count": 446,
   "id": "5f2604bd",
   "metadata": {},
   "outputs": [
    {
     "data": {
      "text/plain": [
       "0    51\n",
       "Name: count, dtype: int64"
      ]
     },
     "execution_count": 446,
     "metadata": {},
     "output_type": "execute_result"
    }
   ],
   "source": [
    "loan_raw_filtered.isnull().sum().value_counts()"
   ]
  },
  {
   "cell_type": "markdown",
   "id": "309fd638",
   "metadata": {},
   "source": [
    "## Data Cleaning and Manipulation Phase"
   ]
  },
  {
   "cell_type": "markdown",
   "id": "d4b0d3f0",
   "metadata": {},
   "source": [
    "* Objectives\n",
    "    * Understand each variable values (Uni variate Analysis), ranges and evaluate if it is meaningful for analysis\n",
    "    * Remove column from analysis if that column is not meaningful\n",
    "    * Clean data/Impute data if required    \n",
    "    * derive type driven metrics if possible"
   ]
  },
  {
   "cell_type": "code",
   "execution_count": 447,
   "id": "3ef38653",
   "metadata": {},
   "outputs": [
    {
     "name": "stdout",
     "output_type": "stream",
     "text": [
      "37833\n",
      "(37833, 51)\n",
      " Id is unique variable for each applicant so not adding any value in analysis\n"
     ]
    }
   ],
   "source": [
    "print(loan_raw_filtered[\"id\"].nunique())\n",
    "print(loan_raw_filtered.shape)\n",
    "loan_data = loan_raw_filtered.drop([\"id\"], axis=1)\n",
    "print(\" Id is unique variable for each applicant so not adding any value in analysis\")"
   ]
  },
  {
   "cell_type": "code",
   "execution_count": 448,
   "id": "0da8e78d",
   "metadata": {},
   "outputs": [
    {
     "name": "stdout",
     "output_type": "stream",
     "text": [
      "count    37833.000000\n",
      "mean        94.549679\n",
      "std        690.395333\n",
      "min          0.000000\n",
      "25%          0.000000\n",
      "50%          0.000000\n",
      "75%          0.000000\n",
      "max      29623.350000\n",
      "Name: recoveries, dtype: float64\n"
     ]
    }
   ],
   "source": [
    "print(loan_raw_filtered[\"recoveries\"].describe())\n",
    "# Post Charge off recovery is not a meaningful parameter in deciding person's defaulting behavior\n",
    "loan_data = loan_data.drop([\"recoveries\"], axis=1)"
   ]
  },
  {
   "cell_type": "code",
   "execution_count": 449,
   "id": "f851ac78",
   "metadata": {},
   "outputs": [
    {
     "name": "stdout",
     "output_type": "stream",
     "text": [
      "count          37833\n",
      "unique             1\n",
      "top       INDIVIDUAL\n",
      "freq           37833\n",
      "Name: application_type, dtype: object\n"
     ]
    }
   ],
   "source": [
    "print(loan_data[\"application_type\"].describe())\n",
    "loan_data = loan_data.drop([\"application_type\"], axis=1)\n",
    "# application_type has single value \"Individual\", so removing from analysis"
   ]
  },
  {
   "cell_type": "code",
   "execution_count": 450,
   "id": "f1f3e230",
   "metadata": {},
   "outputs": [
    {
     "name": "stdout",
     "output_type": "stream",
     "text": [
      "count     37833\n",
      "unique        1\n",
      "top           n\n",
      "freq      37833\n",
      "Name: pymnt_plan, dtype: object\n"
     ]
    }
   ],
   "source": [
    "print(loan_data[\"pymnt_plan\"].describe())\n",
    "loan_data = loan_data.drop([\"pymnt_plan\"], axis=1)\n",
    "# pymnt_plan has single value \"n\", so removing from analysis"
   ]
  },
  {
   "cell_type": "code",
   "execution_count": 451,
   "id": "cb9d83c0",
   "metadata": {},
   "outputs": [
    {
     "name": "stdout",
     "output_type": "stream",
     "text": [
      "count    3.783300e+04\n",
      "mean     8.597925e+05\n",
      "std      2.542345e+05\n",
      "min      8.036400e+04\n",
      "25%      6.732150e+05\n",
      "50%      8.556130e+05\n",
      "75%      1.049074e+06\n",
      "max      1.314167e+06\n",
      "Name: member_id, dtype: float64\n",
      "37833\n"
     ]
    }
   ],
   "source": [
    "print(loan_data[\"member_id\"].describe())\n",
    "print(loan_data[\"member_id\"].nunique())\n",
    "loan_data = loan_data.drop([\"member_id\"], axis=1)\n",
    "# pymnt_plan has all unique values, so removing it from analysis"
   ]
  },
  {
   "cell_type": "code",
   "execution_count": 452,
   "id": "29c39429",
   "metadata": {},
   "outputs": [
    {
     "name": "stdout",
     "output_type": "stream",
     "text": [
      "count    37833.0\n",
      "mean         0.0\n",
      "std          0.0\n",
      "min          0.0\n",
      "25%          0.0\n",
      "50%          0.0\n",
      "75%          0.0\n",
      "max          0.0\n",
      "Name: tax_liens, dtype: float64\n",
      "1\n"
     ]
    }
   ],
   "source": [
    "print(loan_data[\"tax_liens\"].describe())\n",
    "print(loan_data[\"tax_liens\"].nunique())\n",
    "loan_data = loan_data.drop([\"tax_liens\"], axis=1)\n",
    "# tax_liens has only one uniqe value 0.0, so removing it from analysis"
   ]
  },
  {
   "cell_type": "code",
   "execution_count": 453,
   "id": "ff782301",
   "metadata": {},
   "outputs": [
    {
     "name": "stdout",
     "output_type": "stream",
     "text": [
      "count                                                 37833\n",
      "unique                                                37833\n",
      "top       https://lendingclub.com/browse/loanDetail.acti...\n",
      "freq                                                      1\n",
      "Name: url, dtype: object\n",
      "37833\n"
     ]
    }
   ],
   "source": [
    "print(loan_data[\"url\"].describe())\n",
    "print(loan_data[\"url\"].nunique())\n",
    "loan_data = loan_data.drop([\"url\"], axis=1)\n",
    "# url has all uniqe values, so removing it from analysis"
   ]
  },
  {
   "cell_type": "code",
   "execution_count": 454,
   "id": "5005524f",
   "metadata": {},
   "outputs": [
    {
     "name": "stdout",
     "output_type": "stream",
     "text": [
      "count     37833\n",
      "unique        1\n",
      "top           f\n",
      "freq      37833\n",
      "Name: initial_list_status, dtype: object\n",
      "1\n"
     ]
    }
   ],
   "source": [
    "print(loan_data[\"initial_list_status\"].describe())\n",
    "print(loan_data[\"initial_list_status\"].nunique())\n",
    "loan_data = loan_data.drop([\"initial_list_status\"], axis=1)\n",
    "# initial_list_status has only one possible value \"f\" so remvoing it from analysis"
   ]
  },
  {
   "cell_type": "code",
   "execution_count": 455,
   "id": "82c90a6e",
   "metadata": {},
   "outputs": [],
   "source": [
    "# total_rec_late_fee ,collection_recovery_fee are not meaning ful for our analysis\n",
    "loan_data = loan_data.drop([\"collection_recovery_fee\",\"total_rec_late_fee\"], axis=1)"
   ]
  },
  {
   "cell_type": "code",
   "execution_count": 456,
   "id": "0d0cab57",
   "metadata": {},
   "outputs": [
    {
     "name": "stdout",
     "output_type": "stream",
     "text": [
      "count    37833.0\n",
      "mean         1.0\n",
      "std          0.0\n",
      "min          1.0\n",
      "25%          1.0\n",
      "50%          1.0\n",
      "75%          1.0\n",
      "max          1.0\n",
      "Name: policy_code, dtype: float64\n",
      "1\n"
     ]
    }
   ],
   "source": [
    "print(loan_data[\"policy_code\"].describe())\n",
    "print(loan_data[\"policy_code\"].nunique())\n",
    "# policy_code is having only one value, so remvoing it from analysis\n",
    "loan_data = loan_data.drop([\"policy_code\"], axis=1)"
   ]
  },
  {
   "cell_type": "code",
   "execution_count": 457,
   "id": "eb5218d2",
   "metadata": {},
   "outputs": [
    {
     "data": {
      "text/plain": [
       "emp_length\n",
       "10+ years    8750\n",
       "< 1 year     4397\n",
       "2 years      4291\n",
       "3 years      4023\n",
       "4 years      3377\n",
       "5 years      3235\n",
       "1 year       3133\n",
       "6 years      2193\n",
       "7 years      1747\n",
       "8 years      1449\n",
       "9 years      1238\n",
       "Name: count, dtype: int64"
      ]
     },
     "execution_count": 457,
     "metadata": {},
     "output_type": "execute_result"
    }
   ],
   "source": [
    "loan_data[\"emp_length\"].value_counts()"
   ]
  },
  {
   "cell_type": "code",
   "execution_count": 458,
   "id": "addb7aac",
   "metadata": {
    "scrolled": true
   },
   "outputs": [],
   "source": [
    "loan_data[\"emp_length\"] = loan_data[\"emp_length\"].apply(lambda x: int(x.replace(\"years\",\"\").replace(\"year\",\"\").replace(\"< 1\",\"0\").replace(\"10+\",\"10\")))"
   ]
  },
  {
   "cell_type": "code",
   "execution_count": 459,
   "id": "6370e219",
   "metadata": {},
   "outputs": [
    {
     "data": {
      "text/plain": [
       "emp_length\n",
       "10    8750\n",
       "0     4397\n",
       "2     4291\n",
       "3     4023\n",
       "4     3377\n",
       "5     3235\n",
       "1     3133\n",
       "6     2193\n",
       "7     1747\n",
       "8     1449\n",
       "9     1238\n",
       "Name: count, dtype: int64"
      ]
     },
     "execution_count": 459,
     "metadata": {},
     "output_type": "execute_result"
    }
   ],
   "source": [
    "loan_data[\"emp_length\"].value_counts()"
   ]
  },
  {
   "cell_type": "code",
   "execution_count": 510,
   "id": "1c57aaa5",
   "metadata": {},
   "outputs": [
    {
     "name": "stdout",
     "output_type": "stream",
     "text": [
      "loan_status\n",
      "Fully Paid     31204\n",
      "Charged Off     5162\n",
      "Current         1084\n",
      "Name: loan_status, dtype: int64\n",
      "loan_status\n",
      "Fully Paid     83.321762\n",
      "Charged Off    13.783712\n",
      "Current         2.894526\n",
      "Name: loan_status, dtype: float64\n"
     ]
    }
   ],
   "source": [
    "# First let's find out what are the total number and % of loans getting default\n",
    "print(loan_data.groupby(\"loan_status\")[\"loan_status\"].count().sort_values(ascending=False))\n",
    "print((100.0 * loan_data.groupby(\"loan_status\")[\"loan_status\"].count()/len(loan_data)).sort_values(ascending=False))"
   ]
  },
  {
   "cell_type": "markdown",
   "id": "c3264568",
   "metadata": {},
   "source": [
    "Let's try to understading some of the key parameters influencing loan default, like loan amount, annual income, interest rate, loan grade, debt to income ratio, funded amount, funded amount by investor etc."
   ]
  },
  {
   "cell_type": "code",
   "execution_count": 460,
   "id": "9390563a",
   "metadata": {},
   "outputs": [
    {
     "data": {
      "text/plain": [
       "<Axes: xlabel='loan_status', ylabel='loan_amnt'>"
      ]
     },
     "execution_count": 460,
     "metadata": {},
     "output_type": "execute_result"
    },
    {
     "data": {
      "image/png": "[encoded data removed]",
      "text/plain": [
       "<Figure size 640x480 with 1 Axes>"
      ]
     },
     "metadata": {},
     "output_type": "display_data"
    }
   ],
   "source": [
    "#Let's first understand the loan amount by loan status and try to visualize spread for loan amount\n",
    "sns.boxplot(data=loan_data,y=\"loan_amnt\",x=\"loan_status\", order=sorted(loan_data[\"loan_status\"].unique()))"
   ]
  },
  {
   "cell_type": "code",
   "execution_count": 461,
   "id": "60e95c06",
   "metadata": {},
   "outputs": [
    {
     "data": {
      "text/plain": [
       "<Axes: xlabel='loan_status', ylabel='annual_inc'>"
      ]
     },
     "execution_count": 461,
     "metadata": {},
     "output_type": "execute_result"
    },
    {
     "data": {
      "image/png": "[encoded data removed]",
      "text/plain": [
       "<Figure size 640x480 with 1 Axes>"
      ]
     },
     "metadata": {},
     "output_type": "display_data"
    }
   ],
   "source": [
    "sns.boxplot(data=loan_data,y=\"annual_inc\",x=\"loan_status\", order=sorted(loan_data[\"loan_status\"].unique()))"
   ]
  },
  {
   "cell_type": "code",
   "execution_count": 462,
   "id": "30cb84a4",
   "metadata": {},
   "outputs": [
    {
     "data": {
      "text/plain": [
       "<Axes: xlabel='loan_status', ylabel='annual_inc'>"
      ]
     },
     "execution_count": 462,
     "metadata": {},
     "output_type": "execute_result"
    },
    {
     "data": {
      "image/png": "[encoded data removed]",
      "text/plain": [
       "<Figure size 640x480 with 1 Axes>"
      ]
     },
     "metadata": {},
     "output_type": "display_data"
    }
   ],
   "source": [
    "\n",
    "# Removing Outliers\n",
    "\n",
    "# from the above visual it seems, there are very few data points which are skewed towards higher side, lets remove top 1% data point\n",
    "loan_data = loan_data[loan_data[\"annual_inc\"] < loan_data[\"annual_inc\"].quantile(0.99)]\n",
    "\n",
    "sns.boxplot(data=loan_data,y=\"annual_inc\",x=\"loan_status\", order=sorted(loan_data[\"loan_status\"].unique()))\n",
    "\n",
    "# after removing samples with top 1% income, now we are able to see all quantiles clearly"
   ]
  },
  {
   "cell_type": "code",
   "execution_count": 463,
   "id": "001e72d8",
   "metadata": {
    "scrolled": true
   },
   "outputs": [
    {
     "name": "stdout",
     "output_type": "stream",
     "text": [
      "now let's try to understand why people take loan in different income groups, so creating distribution chart for income with purpose as segments\n"
     ]
    },
    {
     "data": {
      "text/plain": [
       "<seaborn.axisgrid.FacetGrid at 0x1d744c77a10>"
      ]
     },
     "execution_count": 463,
     "metadata": {},
     "output_type": "execute_result"
    },
    {
     "data": {
      "image/png": "[encoded data removed]",
      "text/plain": [
       "<Figure size 689.5x500 with 1 Axes>"
      ]
     },
     "metadata": {},
     "output_type": "display_data"
    }
   ],
   "source": [
    "# now let's try to understand why people take loan in different income groups, so creating distribution chart for income with purpose as segments\n",
    "\n",
    "sns.displot(x=\"annual_inc\", data=loan_data, bins=10 , hue=\"purpose\")\n",
    "\n"
   ]
  },
  {
   "cell_type": "markdown",
   "id": "947f56d7",
   "metadata": {},
   "source": [
    "**Most of the loans are taken by people with income group of 25K to 100K**"
   ]
  },
  {
   "cell_type": "code",
   "execution_count": 507,
   "id": "70559150",
   "metadata": {},
   "outputs": [
    {
     "data": {
      "text/plain": [
       "purpose\n",
       "debt_consolidation    47.449933\n",
       "credit_card           12.971963\n",
       "other                  9.813084\n",
       "home_improvement       7.329773\n",
       "major_purchase         5.514019\n",
       "small_business         4.523364\n",
       "car                    3.927904\n",
       "wedding                2.403204\n",
       "medical                1.735648\n",
       "moving                 1.447263\n",
       "house                  0.937250\n",
       "vacation               0.921228\n",
       "educational            0.779706\n",
       "renewable_energy       0.245661\n",
       "Name: purpose, dtype: float64"
      ]
     },
     "execution_count": 507,
     "metadata": {},
     "output_type": "execute_result"
    }
   ],
   "source": [
    "(100.0 * loan_data.groupby([\"purpose\"])[\"purpose\"].count()/len(loan_data)).sort_values(ascending=False)\n"
   ]
  },
  {
   "cell_type": "markdown",
   "id": "2af63df3",
   "metadata": {},
   "source": [
    " **majority of people take loans in different income groups are for debt consolidation**"
   ]
  },
  {
   "cell_type": "code",
   "execution_count": 464,
   "id": "c6289b81",
   "metadata": {},
   "outputs": [],
   "source": [
    "# now let's remove the loan with status =\"Current\" as loans in the state can either go to \"fully paid\" or \"charged off\" status.\n",
    "#loan_data = loan_data[loan_data.loan_status.isin([\"Fully Paid\",\"Charged Off\"])]"
   ]
  },
  {
   "cell_type": "code",
   "execution_count": 465,
   "id": "14bc74ad",
   "metadata": {},
   "outputs": [
    {
     "data": {
      "text/plain": [
       "0    10.65%\n",
       "1    15.27%\n",
       "2    15.96%\n",
       "3    13.49%\n",
       "4    12.69%\n",
       "Name: int_rate, dtype: object"
      ]
     },
     "execution_count": 465,
     "metadata": {},
     "output_type": "execute_result"
    }
   ],
   "source": [
    "# now let's try to understand interest rates values\n",
    "loan_data[\"int_rate\"].head()\n",
    "# we need to remove % sign from the int_rate column and make it float type"
   ]
  },
  {
   "cell_type": "code",
   "execution_count": 466,
   "id": "463108e5",
   "metadata": {},
   "outputs": [
    {
     "data": {
      "text/plain": [
       "count    37450.000000\n",
       "mean        12.055567\n",
       "std          3.726694\n",
       "min          5.420000\n",
       "25%          9.250000\n",
       "50%         11.860000\n",
       "75%         14.610000\n",
       "max         24.590000\n",
       "Name: int_rate, dtype: float64"
      ]
     },
     "execution_count": 466,
     "metadata": {},
     "output_type": "execute_result"
    }
   ],
   "source": [
    "loan_data[\"int_rate\"] = loan_data[\"int_rate\"].apply(lambda x: float(x[:-1]))\n",
    "loan_data[\"int_rate\"].describe()"
   ]
  },
  {
   "cell_type": "code",
   "execution_count": 467,
   "id": "5df3d8c6",
   "metadata": {},
   "outputs": [
    {
     "data": {
      "text/plain": [
       "<Axes: xlabel='loan_status', ylabel='int_rate'>"
      ]
     },
     "execution_count": 467,
     "metadata": {},
     "output_type": "execute_result"
    },
    {
     "data": {
      "image/png": "[encoded data removed]",
      "text/plain": [
       "<Figure size 640x480 with 1 Axes>"
      ]
     },
     "metadata": {},
     "output_type": "display_data"
    }
   ],
   "source": [
    "# plottting box plot for int_rate\n",
    "sns.boxplot(data=loan_data,y=\"int_rate\",x=\"loan_status\", order=sorted(loan_data[\"loan_status\"].unique()))"
   ]
  },
  {
   "cell_type": "markdown",
   "id": "9a5aa66a",
   "metadata": {},
   "source": [
    "**defaulted loan has relatively higher interest rates compared to fully paid loans at almost all quantiles, 25%, 50%, 75% and top level** "
   ]
  },
  {
   "cell_type": "code",
   "execution_count": 468,
   "id": "e53598c9",
   "metadata": {},
   "outputs": [
    {
     "data": {
      "text/plain": [
       "<Axes: xlabel='loan_status', ylabel='dti'>"
      ]
     },
     "execution_count": 468,
     "metadata": {},
     "output_type": "execute_result"
    },
    {
     "data": {
      "image/png": "[encoded data removed]",
      "text/plain": [
       "<Figure size 640x480 with 1 Axes>"
      ]
     },
     "metadata": {},
     "output_type": "display_data"
    }
   ],
   "source": [
    "# Now let's try to understand debt to income ratio and see it's distribution for loan_status\n",
    "sns.boxplot(data=loan_data,y=\"dti\",x=\"loan_status\", order=sorted(loan_data[\"loan_status\"].unique()))"
   ]
  },
  {
   "cell_type": "code",
   "execution_count": 469,
   "id": "46759d78",
   "metadata": {},
   "outputs": [
    {
     "data": {
      "text/plain": [
       "<Axes: xlabel='loan_status', ylabel='installment'>"
      ]
     },
     "execution_count": 469,
     "metadata": {},
     "output_type": "execute_result"
    },
    {
     "data": {
      "image/png": "[encoded data removed]",
      "text/plain": [
       "<Figure size 640x480 with 1 Axes>"
      ]
     },
     "metadata": {},
     "output_type": "display_data"
    }
   ],
   "source": [
    "# Now let's try to understand installment amount and see it's distribution for loan_status\n",
    "sns.boxplot(data=loan_data,y=\"installment\",x=\"loan_status\", order=sorted(loan_data[\"loan_status\"].unique()))"
   ]
  },
  {
   "cell_type": "code",
   "execution_count": 470,
   "id": "dc003e62",
   "metadata": {},
   "outputs": [
    {
     "data": {
      "image/png": "[encoded data removed]",
      "text/plain": [
       "<Figure size 640x480 with 1 Axes>"
      ]
     },
     "metadata": {},
     "output_type": "display_data"
    }
   ],
   "source": [
    "# Now let's try to understand loan amount,annual income, installment amount, interest rate and dti by loan grade\n",
    "sns.boxplot(data=loan_data,y=\"loan_amnt\",x=\"grade\", order=sorted(loan_data[\"grade\"].unique()))\n",
    "plt.show()\n"
   ]
  },
  {
   "cell_type": "markdown",
   "id": "51810acd",
   "metadata": {},
   "source": [
    " **Loan amount increases as grades go down from A to G. Meaning lending company is providing higher amount loans on lower grades loan.** "
   ]
  },
  {
   "cell_type": "code",
   "execution_count": 471,
   "id": "4127d8f1",
   "metadata": {},
   "outputs": [
    {
     "data": {
      "image/png": "[encoded data removed]",
      "text/plain": [
       "<Figure size 640x480 with 1 Axes>"
      ]
     },
     "metadata": {},
     "output_type": "display_data"
    }
   ],
   "source": [
    "sns.boxplot(data=loan_data,y=\"annual_inc\",x=\"grade\", order=sorted(loan_data[\"grade\"].unique()))\n",
    "plt.show()\n"
   ]
  },
  {
   "cell_type": "markdown",
   "id": "759591b8",
   "metadata": {},
   "source": [
    " **Annual income goes up as grades go down from A to G, meaning people with relatively higher income take loans of lower grades**"
   ]
  },
  {
   "cell_type": "code",
   "execution_count": 472,
   "id": "612785f9",
   "metadata": {
    "scrolled": true
   },
   "outputs": [
    {
     "data": {
      "image/png": "[encoded data removed]",
      "text/plain": [
       "<Figure size 640x480 with 1 Axes>"
      ]
     },
     "metadata": {},
     "output_type": "display_data"
    }
   ],
   "source": [
    "sns.boxplot(data=loan_data,y=\"int_rate\",x=\"grade\", order=sorted(loan_data[\"grade\"].unique()))\n",
    "plt.show()\n"
   ]
  },
  {
   "cell_type": "markdown",
   "id": "bc516465",
   "metadata": {},
   "source": [
    "**Intrest rates significanly goes up as grades go down from A to G. Which is factual as good quality loans (higher grades) are generally available at lower rates.**"
   ]
  },
  {
   "cell_type": "code",
   "execution_count": 473,
   "id": "57a583c5",
   "metadata": {},
   "outputs": [
    {
     "data": {
      "image/png": "[encoded data removed]",
      "text/plain": [
       "<Figure size 640x480 with 1 Axes>"
      ]
     },
     "metadata": {},
     "output_type": "display_data"
    }
   ],
   "source": [
    "sns.boxplot(data=loan_data,y=\"dti\",x=\"grade\", order=sorted(loan_data[\"grade\"].unique()))\n",
    "plt.show()"
   ]
  },
  {
   "cell_type": "code",
   "execution_count": 498,
   "id": "7a17f904",
   "metadata": {
    "scrolled": true
   },
   "outputs": [
    {
     "data": {
      "text/plain": [
       "Text(0, 0.5, 'Default Percentage')"
      ]
     },
     "execution_count": 498,
     "metadata": {},
     "output_type": "execute_result"
    },
    {
     "data": {
      "image/png": "[encoded data removed]",
      "text/plain": [
       "<Figure size 640x480 with 1 Axes>"
      ]
     },
     "metadata": {},
     "output_type": "display_data"
    }
   ],
   "source": [
    "# Now lets try to understand in which grade there are more defaulted loans. \n",
    "# To do that we first try to find % loan defaulted for each grade\n",
    "\n",
    "loan_defaulted = loan_data[loan_data[\"loan_status\"] == \"Charged Off\"]\n",
    "loan_paid = loan_data[loan_data[\"loan_status\"] == \"Fully Paid\"]\n",
    "\n",
    "loan_by_status_grade = loan_data.groupby([\"grade\",\"loan_status\"],as_index=False)[[\"term\"]].count().rename(columns={\"term\":\"Count\"})\n",
    "loan_by_grade = loan_data.groupby([\"grade\"])[[\"term\"]].count().rename(columns={\"term\":\"Count\"})\n",
    "\n",
    "loan_by_status_grade = loan_by_status_grade.join(loan_by_grade,on=\"grade\",lsuffix=\"left\",rsuffix=\"right\")\n",
    "loan_by_status_grade[\"Percentage\"] = 100.0* loan_by_status_grade[\"Countleft\"]/loan_by_status_grade[\"Countright\"]\n",
    "loan_by_status_grade = loan_by_status_grade.rename(columns={\"Countleft\":\"count\"}).drop([\"Countright\"],axis=1)\n",
    "#loan_by_status_grade\n",
    "loan_by_status_grade[loan_by_status_grade[\"loan_status\"] == \"Charged Off\"].plot(kind=\"bar\",x=\"grade\",y=\"Percentage\")\n",
    "plt.ylabel(\"Default Percentage\")"
   ]
  },
  {
   "cell_type": "markdown",
   "id": "d4d87a42",
   "metadata": {},
   "source": [
    "**deafult percentage goes up significantly as grades go down from A to G. Which is logical as lower grades loans have higher chances of getting default**"
   ]
  },
  {
   "cell_type": "code",
   "execution_count": null,
   "id": "c232b05d",
   "metadata": {},
   "outputs": [],
   "source": []
  },
  {
   "cell_type": "code",
   "execution_count": null,
   "id": "ecb5d736",
   "metadata": {},
   "outputs": [],
   "source": []
  },
  {
   "cell_type": "code",
   "execution_count": null,
   "id": "28f72154",
   "metadata": {},
   "outputs": [],
   "source": []
  },
  {
   "cell_type": "code",
   "execution_count": null,
   "id": "7825834c",
   "metadata": {},
   "outputs": [],
   "source": []
  },
  {
   "cell_type": "code",
   "execution_count": null,
   "id": "723bd15a",
   "metadata": {},
   "outputs": [],
   "source": []
  },
  {
   "cell_type": "code",
   "execution_count": null,
   "id": "8d9708a7",
   "metadata": {},
   "outputs": [],
   "source": []
  },
  {
   "cell_type": "code",
   "execution_count": null,
   "id": "c1268704",
   "metadata": {},
   "outputs": [],
   "source": []
  },
  {
   "cell_type": "code",
   "execution_count": null,
   "id": "7c972010",
   "metadata": {},
   "outputs": [],
   "source": []
  },
  {
   "cell_type": "code",
   "execution_count": null,
   "id": "442069c5",
   "metadata": {},
   "outputs": [],
   "source": []
  },
  {
   "cell_type": "code",
   "execution_count": null,
   "id": "7e67464a",
   "metadata": {},
   "outputs": [],
   "source": []
  },
  {
   "cell_type": "code",
   "execution_count": null,
   "id": "ffad96f7",
   "metadata": {},
   "outputs": [],
   "source": []
  },
  {
   "cell_type": "code",
   "execution_count": 497,
   "id": "096bf448",
   "metadata": {},
   "outputs": [
    {
     "data": {
      "text/plain": [
       "<Axes: xlabel='grade', ylabel='funded_amount_ratio'>"
      ]
     },
     "execution_count": 497,
     "metadata": {},
     "output_type": "execute_result"
    },
    {
     "data": {
      "image/png": "[encoded data removed]",
      "text/plain": [
       "<Figure size 640x480 with 1 Axes>"
      ]
     },
     "metadata": {},
     "output_type": "display_data"
    }
   ],
   "source": [
    "loan_data[\"funded_amount_ratio\"] = loan_data[\"funded_amnt_inv\"]/loan_data[\"funded_amnt\"]\n",
    "sns.boxplot(data=loan_data[loan_data[\"funded_amount_ratio\"] > 0.9],y=\"funded_amount_ratio\",x=\"grade\", order=sorted(loan_data[\"grade\"].unique()))"
   ]
  },
  {
   "cell_type": "code",
   "execution_count": 578,
   "id": "58b10a5b",
   "metadata": {},
   "outputs": [
    {
     "data": {
      "text/html": [
       "<div>\n",
       "<style scoped>\n",
       "    .dataframe tbody tr th:only-of-type {\n",
       "        vertical-align: middle;\n",
       "    }\n",
       "\n",
       "    .dataframe tbody tr th {\n",
       "        vertical-align: top;\n",
       "    }\n",
       "\n",
       "    .dataframe thead th {\n",
       "        text-align: right;\n",
       "    }\n",
       "</style>\n",
       "<table border=\"1\" class=\"dataframe\">\n",
       "  <thead>\n",
       "    <tr style=\"text-align: right;\">\n",
       "      <th></th>\n",
       "      <th>addr_state</th>\n",
       "      <th>countTotal</th>\n",
       "      <th>count</th>\n",
       "      <th>percentage_default</th>\n",
       "    </tr>\n",
       "  </thead>\n",
       "  <tbody>\n",
       "    <tr>\n",
       "      <th>27</th>\n",
       "      <td>NV</td>\n",
       "      <td>473</td>\n",
       "      <td>100</td>\n",
       "      <td>21.141649</td>\n",
       "    </tr>\n",
       "    <tr>\n",
       "      <th>36</th>\n",
       "      <td>TN</td>\n",
       "      <td>10</td>\n",
       "      <td>2</td>\n",
       "      <td>20.000000</td>\n",
       "    </tr>\n",
       "    <tr>\n",
       "      <th>0</th>\n",
       "      <td>AK</td>\n",
       "      <td>76</td>\n",
       "      <td>14</td>\n",
       "      <td>18.421053</td>\n",
       "    </tr>\n",
       "    <tr>\n",
       "      <th>35</th>\n",
       "      <td>SD</td>\n",
       "      <td>61</td>\n",
       "      <td>11</td>\n",
       "      <td>18.032787</td>\n",
       "    </tr>\n",
       "  </tbody>\n",
       "</table>\n",
       "</div>"
      ],
      "text/plain": [
       "   addr_state  countTotal  count  percentage_default\n",
       "27         NV         473    100           21.141649\n",
       "36         TN          10      2           20.000000\n",
       "0          AK          76     14           18.421053\n",
       "35         SD          61     11           18.032787"
      ]
     },
     "execution_count": 578,
     "metadata": {},
     "output_type": "execute_result"
    }
   ],
   "source": [
    "# now let's try to understand default loan by geography and try to find states where there is highest percentage of defaults\n",
    "\n",
    "defaulted_by_state = loan_data[loan_data[\"loan_status\"] == \"Charged Off\"]\\\n",
    "        .groupby([\"addr_state\"],as_index=False)[[\"loan_status\"]].count()\\\n",
    "        .rename(columns = {\"loan_status\":\"count\"})\n",
    "defaulted_by_state[\"addr_state\"] = defaulted_by_state[\"addr_state\"].astype(pd.StringDtype())\n",
    "\n",
    "total_by_state = loan_data.groupby([\"addr_state\"],as_index=False)[[\"loan_status\"]].count()\\\n",
    "                    .rename(columns= {\"loan_status\":\"countTotal\"})\n",
    "\n",
    "total_by_state[\"addr_state\"] = total_by_state[\"addr_state\"].astype(pd.StringDtype())\n",
    "\n",
    "\n",
    "joineddata = total_by_state.merge(defaulted_by_state, on=\"addr_state\")\n",
    "\n",
    "joineddata[\"percentage_default\"] = 100.0 * joineddata[\"count\"]/joineddata[\"countTotal\"]\n",
    "\n",
    "joineddata.sort_values(by=\"percentage_default\", ascending=False).head(4)\n"
   ]
  },
  {
   "cell_type": "code",
   "execution_count": null,
   "id": "00e95517",
   "metadata": {},
   "outputs": [],
   "source": []
  }
 ],
 "metadata": {
  "kernelspec": {
   "display_name": "Python 3 (ipykernel)",
   "language": "python",
   "name": "python3"
  },
  "language_info": {
   "codemirror_mode": {
    "name": "ipython",
    "version": 3
   },
   "file_extension": ".py",
   "mimetype": "text/x-python",
   "name": "python",
   "nbconvert_exporter": "python",
   "pygments_lexer": "ipython3",
   "version": "3.11.5"
  }
 },
 "nbformat": 4,
 "nbformat_minor": 5
}
